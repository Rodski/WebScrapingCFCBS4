{
 "cells": [
  {
   "cell_type": "code",
   "execution_count": 85,
   "metadata": {},
   "outputs": [],
   "source": [
    "# import libraries\n",
    "from requests import get\n",
    "from bs4 import BeautifulSoup\n",
    "import regex as re"
   ]
  },
  {
   "cell_type": "code",
   "execution_count": 3,
   "metadata": {},
   "outputs": [
    {
     "name": "stdout",
     "output_type": "stream",
     "text": [
      "<!doctype html>\n",
      "<!--[if lt IE 7]> <html class=\"no-js ie6 oldie\" lang=\"en-US\" prefix=\"og: http://ogp.me/ns#\"> <![endif]-->\n",
      "<!--[if IE 7]>    <html class=\"no-js ie7 oldie\" lang=\"en-US\" prefix=\"og: http://ogp.me/ns#\"> <![endif]-->\n",
      "<!--[if IE 8]>    <html class=\"no-js ie8 oldie\" lang=\"en-US\" prefix=\"og: http://ogp.me/ns#\"> <![endif]-->\n",
      "<!--[if IE 9]>    <html class=\"no-js ie9 oldie\" lang=\"en-US\" prefix=\"og: http://ogp.me/ns#\"> <![endif]-->\n",
      "<!--[if gt IE 9]><!--> <html class=\"no-js\" lang=\"en-US\" pref\n"
     ]
    }
   ],
   "source": [
    "url = 'https://communityfoundations.ca/find-a-community-foundation/'\n",
    "\n",
    "response = get(url)\n",
    "print(response.text[:500])"
   ]
  },
  {
   "cell_type": "code",
   "execution_count": 4,
   "metadata": {},
   "outputs": [
    {
     "data": {
      "text/plain": [
       "bs4.BeautifulSoup"
      ]
     },
     "execution_count": 4,
     "metadata": {},
     "output_type": "execute_result"
    }
   ],
   "source": [
    "html_soup = BeautifulSoup(response.text, 'html.parser')\n",
    "type(html_soup)"
   ]
  },
  {
   "cell_type": "code",
   "execution_count": 59,
   "metadata": {},
   "outputs": [
    {
     "name": "stdout",
     "output_type": "stream",
     "text": [
      "<class 'bs4.element.ResultSet'>\n",
      "194\n"
     ]
    }
   ],
   "source": [
    "info_containers = html_soup.find_all('h3')\n",
    "print(type(info_containers))\n",
    "print(len(info_containers))"
   ]
  },
  {
   "cell_type": "code",
   "execution_count": 64,
   "metadata": {},
   "outputs": [
    {
     "data": {
      "text/plain": [
       "<h3><a href=\"https://communityfoundations.ca/cfc_locations/wood-buffalo-community-foundation/\">Wood Buffalo Community Foundation</a></h3>"
      ]
     },
     "execution_count": 64,
     "metadata": {},
     "output_type": "execute_result"
    }
   ],
   "source": [
    "first_cfc = info_containers[0]\n",
    "first_cfc"
   ]
  },
  {
   "cell_type": "code",
   "execution_count": 68,
   "metadata": {},
   "outputs": [
    {
     "data": {
      "text/plain": [
       "<h3><a href=\"https://communityfoundations.ca/cfc_locations/the-yukon-foundation/\">The Yukon Foundation</a></h3>"
      ]
     },
     "execution_count": 68,
     "metadata": {},
     "output_type": "execute_result"
    }
   ],
   "source": [
    "cfc2 = info_containers[193]\n",
    "cfc2"
   ]
  },
  {
   "cell_type": "code",
   "execution_count": 75,
   "metadata": {},
   "outputs": [],
   "source": [
    "a_containers = html_soup.find_all('a')\n"
   ]
  },
  {
   "cell_type": "code",
   "execution_count": 76,
   "metadata": {},
   "outputs": [
    {
     "name": "stdout",
     "output_type": "stream",
     "text": [
      "None\n",
      "None\n",
      "/feed\n",
      "https://twitter.com/CommFdnsCanada\n",
      "https://www.facebook.com/CommunityFdnsCanadaHome\n",
      "https://flickr.com/communityfoundationsofcanada\n",
      "https://youtube.com/user/cfcteam\n",
      "https://communityfoundations.ca/fr/find-a-community-foundation/\n",
      "https://communityfoundations.ca/\n",
      "https://communityfoundations.ca/news/\n",
      "https://communityfoundations.ca/contact-us/\n",
      "https://communityfoundations.ca\n",
      "#\n",
      "https://communityfoundations.ca/about/\n",
      "https://communityfoundations.ca/wp-content/uploads/2018/08/CFC046_AR2017_Digital_Aug28.pdf\n",
      "https://communityfoundations.ca/2016-annual-report/\n",
      "https://communityfoundations.ca/contact-us/\n",
      "https://communityfoundations.ca/board-of-directors/\n",
      "https://communityfoundations.ca/champions/\n",
      "https://communityfoundations.ca/find-a-community-foundation/\n",
      "https://communityfoundations.ca/careers/\n",
      "#\n",
      "https://communityfoundations.ca/our-work/\n",
      "https://communityfoundations.ca/conference-2019/\n",
      "https://communityfoundations.ca/vitalsigns/\n",
      "https://communityfoundations.ca/our-work/\n",
      "#\n",
      "https://communityfoundations.ca/learning-institute/\n",
      "https://communityfoundations.ca/foundation-development/\n",
      "https://communityfoundations.ca/learning-institute/resource-library/\n",
      "https://communityfoundations.ca/events\n",
      "https://communityfoundations.ca/learning-institute/network-benefits/\n",
      "https://communityfoundations.ca/data-hub/\n",
      "/partners\n",
      "https://communityfoundations.ca/about/get-involved/\n",
      "mailto:jpnikota@communityfoundations.ca\n",
      "None\n",
      "https://communityfoundations.ca/cfc_locations/wood-buffalo-community-foundation/\n",
      "https://communityfoundations.ca/cfc_locations/airdrie-and-district-community-foundation/\n",
      "https://communityfoundations.ca/cfc_locations/the-banff-community-foundation/\n",
      "https://communityfoundations.ca/cfc_locations/battle-river-community-foundation/\n",
      "https://communityfoundations.ca/cfc_locations/community-foundation-of-lethbridge-and-southwestern-alberta/\n",
      "https://communityfoundations.ca/cfc_locations/community-foundation-of-northwestern-alberta/\n",
      "https://communityfoundations.ca/cfc_locations/community-foundation-of-medicine-hat-and-southeastern-alberta/\n",
      "https://communityfoundations.ca/cfc_locations/drayton-valley-community-foundation/\n",
      "https://communityfoundations.ca/cfc_locations/edmonton-community-foundation/\n",
      "https://communityfoundations.ca/cfc_locations/red-deer-district-community-foundation/\n",
      "https://communityfoundations.ca/cfc_locations/st-albert-community-foundation/\n",
      "https://communityfoundations.ca/cfc_locations/the-calgary-foundation/\n",
      "https://communityfoundations.ca/cfc_locations/abbotsford-community-foundation/\n",
      "https://communityfoundations.ca/cfc_locations/alberni-valley-community-foundation/\n",
      "https://communityfoundations.ca/cfc_locations/kamloops-foundation/\n",
      "https://communityfoundations.ca/cfc_locations/bowen-island-community-foundation/\n",
      "https://communityfoundations.ca/cfc_locations/bulkley-valley-community-foundation/\n",
      "https://communityfoundations.ca/cfc_locations/campbell-river-community-foundation/\n",
      "https://communityfoundations.ca/cfc_locations/central-okanagan-foundation/\n",
      "https://communityfoundations.ca/cfc_locations/clayoquot-biosphere-trust/\n",
      "https://communityfoundations.ca/cfc_locations/columbia-valley-community-foundation/\n",
      "https://communityfoundations.ca/cfc_locations/community-foundation-of-castlegar-district/\n",
      "https://communityfoundations.ca/cfc_locations/cranbrook-district-community-foundation/\n",
      "https://communityfoundations.ca/cfc_locations/community-foundation-of-the-north-okanagan/\n",
      "https://communityfoundations.ca/cfc_locations/community-foundation-of-the-south-okanagan/\n",
      "https://communityfoundations.ca/cfc_locations/community-foundation-of-whistler/\n",
      "https://communityfoundations.ca/cfc_locations/comox-valley-community-foundation/\n",
      "https://communityfoundations.ca/cfc_locations/coquitlam-foundation/\n",
      "https://communityfoundations.ca/cfc_locations/creston-kootenay-foundation/\n",
      "https://communityfoundations.ca/cfc_locations/delta-foundation/\n",
      "https://communityfoundations.ca/cfc_locations/golden-district-community-foundation/\n",
      "https://communityfoundations.ca/cfc_locations/haida-gwaii-community-foundation/\n",
      "https://communityfoundations.ca/cfc_locations/kimberley-and-district-community-foundation/\n",
      "https://communityfoundations.ca/cfc_locations/kitimat-community-foundation/\n",
      "https://communityfoundations.ca/cfc_locations/leroi-community-foundation/\n",
      "https://communityfoundations.ca/cfc_locations/maple-ridge-community-foundation/\n",
      "https://communityfoundations.ca/cfc_locations/mission-community-foundation/\n",
      "https://communityfoundations.ca/cfc_locations/nakusp-and-area-community-foundation/\n",
      "https://communityfoundations.ca/cfc_locations/the-nanaimo-community-foundation/\n",
      "https://communityfoundations.ca/cfc_locations/north-shore-community-foundation/\n",
      "https://communityfoundations.ca/cfc_locations/north-thompson-communities-foundation/\n",
      "https://communityfoundations.ca/cfc_locations/northeast-regional-community-foundation/\n",
      "https://communityfoundations.ca/cfc_locations/osprey-community-foundation/\n",
      "https://communityfoundations.ca/cfc_locations/parksville-qualicum-foundation/\n",
      "https://communityfoundations.ca/cfc_locations/phoenix-foundation-of-the-boundary-communities/\n",
      "https://communityfoundations.ca/cfc_locations/pitt-meadows-community-foundation/\n",
      "https://communityfoundations.ca/cfc_locations/port-coquitlam-community-foundation/\n",
      "https://communityfoundations.ca/cfc_locations/port-moody-foundation/\n",
      "https://communityfoundations.ca/cfc_locations/powell-river-community-foundation/\n",
      "https://communityfoundations.ca/cfc_locations/prince-rupert-regional-community-foundation/\n",
      "https://communityfoundations.ca/cfc_locations/quesnel-community-foundation/\n",
      "https://communityfoundations.ca/cfc_locations/revelstoke-community-foundation/\n",
      "https://communityfoundations.ca/cfc_locations/richmond-community-foundation/\n",
      "https://communityfoundations.ca/cfc_locations/salt-spring-island-foundation/\n",
      "https://communityfoundations.ca/cfc_locations/shuswap-community-foundation/\n",
      "https://communityfoundations.ca/cfc_locations/squamish-community-foundation/\n",
      "https://communityfoundations.ca/cfc_locations/sunshine-coast-community-foundation/\n",
      "https://communityfoundations.ca/cfc_locations/surrey-cares/\n",
      "https://communityfoundations.ca/cfc_locations/the-prince-george-community-foundation/\n",
      "https://communityfoundations.ca/cfc_locations/thetis-island-community-fund/\n",
      "https://communityfoundations.ca/cfc_locations/vancouver-foundation/\n",
      "https://communityfoundations.ca/cfc_locations/victoria-foundation/\n",
      "https://communityfoundations.ca/cfc_locations/west-vancouver-community-foundation/\n",
      "https://communityfoundations.ca/cfc_locations/beautiful-plains-community-foundation-inc/\n",
      "https://communityfoundations.ca/cfc_locations/big-grass-community-foundation-inc/\n",
      "https://communityfoundations.ca/cfc_locations/birtle-and-district-foundation/\n",
      "https://communityfoundations.ca/cfc_locations/brandon-area-community-foundation-inc/\n",
      "https://communityfoundations.ca/cfc_locations/brokenhead-river-community-foundation-inc/\n",
      "https://communityfoundations.ca/cfc_locations/carberry-and-area-community-foundation-inc/\n",
      "https://communityfoundations.ca/cfc_locations/coldwell-community-foundation/\n",
      "https://communityfoundations.ca/cfc_locations/community-foundation-of-portage-and-district-inc/\n",
      "https://communityfoundations.ca/cfc_locations/community-foundation-of-swan-valley-inc/\n",
      "https://communityfoundations.ca/cfc_locations/cypress-river-area-foundation-inc/\n",
      "https://communityfoundations.ca/cfc_locations/dauphin-district-community-foundation/\n",
      "https://communityfoundations.ca/cfc_locations/elkhorn-area-foundation/\n",
      "https://communityfoundations.ca/cfc_locations/francofonds-la-fondation-communautaire-du-manitoba-francais/\n",
      "https://communityfoundations.ca/cfc_locations/grandview-district-community-foundation/\n",
      "https://communityfoundations.ca/cfc_locations/hamiota-community-foundation/\n",
      "https://communityfoundations.ca/cfc_locations/headingley-community-foundation/\n",
      "https://communityfoundations.ca/cfc_locations/holland-area-community-foundation-inc/\n",
      "https://communityfoundations.ca/cfc_locations/icelandic-river-community-foundation/\n",
      "https://communityfoundations.ca/cfc_locations/lac-du-bonnet-and-district-foundation/\n",
      "https://communityfoundations.ca/cfc_locations/living-legacy-community-foundation/\n",
      "https://communityfoundations.ca/cfc_locations/miami-and-area-foundation-inc/\n",
      "https://communityfoundations.ca/cfc_locations/minnedosa-district-foundation-inc/\n",
      "https://communityfoundations.ca/cfc_locations/morden-area-foundation-inc/\n",
      "https://communityfoundations.ca/cfc_locations/north-norfolk-macgregor-foundation-inc/\n",
      "https://communityfoundations.ca/cfc_locations/northern-neighbours-foundation-inc/\n",
      "https://communityfoundations.ca/cfc_locations/oak-lake-area-foundation-inc/\n",
      "https://communityfoundations.ca/cfc_locations/pembina-manitou-area-foundation-inc/\n",
      "https://communityfoundations.ca/cfc_locations/pilot-mound-district-foundation-inc/\n",
      "https://communityfoundations.ca/cfc_locations/pinawa-community-foundation-inc/\n",
      "https://communityfoundations.ca/cfc_locations/plum-coulee-community-foundation/\n",
      "https://communityfoundations.ca/cfc_locations/reston-and-area-foundation-inc/\n",
      "https://communityfoundations.ca/cfc_locations/rivers-and-area-community-foundation-inc/\n",
      "https://communityfoundations.ca/cfc_locations/roblin-district-community-foundation/\n",
      "https://communityfoundations.ca/cfc_locations/selkirk-district-community-foundation/\n",
      "https://communityfoundations.ca/cfc_locations/shoal-lake-community-foundation/\n",
      "https://communityfoundations.ca/cfc_locations/souris-glenwood-foundation-inc/\n",
      "https://communityfoundations.ca/cfc_locations/sturgeon-community-foundation-inc/\n",
      "https://communityfoundations.ca/cfc_locations/the-altona-community-foundation-inc/\n",
      "https://communityfoundations.ca/cfc_locations/the-boissevain-and-morton-foundation-incorporated/\n",
      "https://communityfoundations.ca/cfc_locations/the-carman-area-foundation-inc/\n",
      "https://communityfoundations.ca/cfc_locations/the-cartwright-and-area-foundation-inc/\n",
      "https://communityfoundations.ca/cfc_locations/the-glenboro-area-foundation-inc/\n",
      "https://communityfoundations.ca/cfc_locations/the-interlake-community-foundation-inc/\n",
      "https://communityfoundations.ca/cfc_locations/the-killarney-foundation-inc/\n",
      "https://communityfoundations.ca/cfc_locations/the-morris-area-foundation-inc/\n",
      "https://communityfoundations.ca/cfc_locations/the-southwest-manitoba-regional-foundation/\n",
      "https://communityfoundations.ca/cfc_locations/the-steinbach-community-foundation-inc/\n",
      "https://communityfoundations.ca/cfc_locations/the-winnipeg-foundation/\n",
      "https://communityfoundations.ca/cfc_locations/thompson-community-foundation/\n",
      "https://communityfoundations.ca/cfc_locations/tiger-hills-community-foundation-inc/\n",
      "https://communityfoundations.ca/cfc_locations/virden-area-foundation-inc/\n",
      "https://communityfoundations.ca/cfc_locations/wawanesa-community-foundation-inc/\n",
      "https://communityfoundations.ca/cfc_locations/westshore-community-foundation-inc/\n",
      "https://communityfoundations.ca/cfc_locations/winkler-community-foundation-inc/\n",
      "https://communityfoundations.ca/cfc_locations/carleton-north-community-foundation/\n",
      "https://communityfoundations.ca/cfc_locations/fondation-communautaire-de-la-peninsule-acadienne-inc/\n",
      "https://communityfoundations.ca/cfc_locations/fredericton-community-foundation-inc/\n",
      "https://communityfoundations.ca/cfc_locations/fundy-community-foundation/\n",
      "https://communityfoundations.ca/cfc_locations/sussex-area-community-foundation-inc/\n",
      "https://communityfoundations.ca/cfc_locations/the-greater-saint-john-community-foundation/\n",
      "https://communityfoundations.ca/cfc_locations/community-foundation-of-newfoundland-and-labrador/\n",
      "https://communityfoundations.ca/cfc_locations/yellowknife-community-foundation/\n",
      "https://communityfoundations.ca/cfc_locations/community-foundation-of-nova-scotia/\n",
      "https://communityfoundations.ca/cfc_locations/rural-communities-foundation-of-nova-scotia/\n",
      "https://communityfoundations.ca/cfc_locations/aylmer-area-community-foundation/\n",
      "https://communityfoundations.ca/cfc_locations/barrie-community-foundation/\n",
      "https://communityfoundations.ca/cfc_locations/bradford-west-gwillimbury-and-district-community-foundation-bwgdcf/\n",
      "https://communityfoundations.ca/cfc_locations/brampton-and-area-community-foundation/\n",
      "https://communityfoundations.ca/cfc_locations/brant-community-foundation/\n",
      "https://communityfoundations.ca/cfc_locations/brockville-and-area-community-foundation/\n",
      "https://communityfoundations.ca/cfc_locations/burlington-community-foundation/\n",
      "https://communityfoundations.ca/cfc_locations/caledonia-community-foundation/\n",
      "https://communityfoundations.ca/cfc_locations/cambridge-north-dumfries-community-foundation/\n",
      "https://communityfoundations.ca/cfc_locations/campbellfordseymour-community-foundation/\n",
      "https://communityfoundations.ca/cfc_locations/centre-wellington-community-foundation/\n",
      "https://communityfoundations.ca/cfc_locations/community-foundation-for-kingston-area/\n",
      "https://communityfoundations.ca/cfc_locations/napanee-district-community-foundation/\n",
      "https://communityfoundations.ca/cfc_locations/community-foundation-grey-bruce/\n",
      "https://communityfoundations.ca/cfc_locations/community-foundation-of-greater-peterborough/\n",
      "https://communityfoundations.ca/cfc_locations/community-foundation-of-halton-north/\n",
      "https://communityfoundations.ca/cfc_locations/community-foundation-of-mississauga/\n",
      "https://communityfoundations.ca/cfc_locations/durham-community-foundation/\n",
      "https://communityfoundations.ca/cfc_locations/elgin-st-thomas-community-foundation/\n",
      "https://communityfoundations.ca/cfc_locations/fondation-communautaire-du-temiskaming/\n",
      "https://communityfoundations.ca/cfc_locations/forest-community-foundation/\n",
      "https://communityfoundations.ca/cfc_locations/grand-bend-community-foundation/\n",
      "https://communityfoundations.ca/cfc_locations/hamilton-community-foundation/\n",
      "https://communityfoundations.ca/cfc_locations/huronia-community-foundation-la-fondation-communautaire-de-la-huronie/\n",
      "https://communityfoundations.ca/cfc_locations/kenora-and-lake-of-the-woods-regional-community-foundation/\n",
      "https://communityfoundations.ca/cfc_locations/london-community-foundation/\n",
      "https://communityfoundations.ca/cfc_locations/muskoka-community-foundation/\n",
      "https://communityfoundations.ca/cfc_locations/niagara-community-foundation/\n",
      "https://communityfoundations.ca/cfc_locations/north-bay-and-area-community-foundation/\n",
      "https://communityfoundations.ca/cfc_locations/oakville-community-foundation/\n",
      "https://communityfoundations.ca/cfc_locations/community-foundation-of-ottawa-fondation-communautaire-dottawa/\n",
      "https://communityfoundations.ca/cfc_locations/oxford-community-foundation/\n",
      "https://communityfoundations.ca/cfc_locations/pembroke-petawawa-district-community-foundation/\n",
      "https://communityfoundations.ca/cfc_locations/sarnia-community-foundation/\n",
      "https://communityfoundations.ca/cfc_locations/stratford-and-perth-county-community-foundation/\n",
      "https://communityfoundations.ca/cfc_locations/sudbury-community-foundationfondation-communautaire-de-sudbury/\n",
      "https://communityfoundations.ca/cfc_locations/the-chatham-kent-community-foundation/\n",
      "https://communityfoundations.ca/cfc_locations/the-community-foundation-of-orillia-and-area/\n",
      "https://communityfoundations.ca/cfc_locations/prince-edward-county-community-foundation/\n",
      "https://communityfoundations.ca/cfc_locations/the-deep-river-and-district-community-foundation/\n",
      "https://communityfoundations.ca/cfc_locations/the-dufferin-community-foundation/\n",
      "https://communityfoundations.ca/cfc_locations/the-guelph-community-foundation/\n",
      "https://communityfoundations.ca/cfc_locations/the-kitchener-and-waterloo-community-foundation/\n",
      "https://communityfoundations.ca/cfc_locations/the-norfolk-community-foundation/\n",
      "https://communityfoundations.ca/cfc_locations/the-perth-and-district-community-foundation/\n",
      "https://communityfoundations.ca/cfc_locations/the-temagami-community-foundation/\n",
      "https://communityfoundations.ca/cfc_locations/the-temiskaming-foundation/\n",
      "https://communityfoundations.ca/cfc_locations/thunder-bay-community-foundation/\n",
      "https://communityfoundations.ca/cfc_locations/toronto-community-foundation/\n",
      "https://communityfoundations.ca/cfc_locations/windsoressex-community-foundation/\n",
      "https://communityfoundations.ca/cfc_locations/the-community-foundation-of-prince-edward-island/\n",
      "https://communityfoundations.ca/cfc_locations/la-fondation-communautaire-de-lestrie/\n",
      "https://communityfoundations.ca/cfc_locations/eenou-eeyou-community-foundation/\n",
      "https://communityfoundations.ca/cfc_locations/fondation-communautaire-de-labitibi-temiscamingue/\n",
      "https://communityfoundations.ca/cfc_locations/fondation-communautaire-de-lanaudi%c2%8fre/\n",
      "https://communityfoundations.ca/cfc_locations/fondation-communautaire-du-saguenay-lac-saint-jean/\n",
      "https://communityfoundations.ca/cfc_locations/fondation-communautaire-du-saint-maurice/\n",
      "https://communityfoundations.ca/cfc_locations/fondation-communautaire-gaspesie-les-eles/\n",
      "https://communityfoundations.ca/cfc_locations/fondation-laurentides/\n",
      "https://communityfoundations.ca/cfc_locations/fondation-communautaire-du-grand-quebec/\n",
      "https://communityfoundations.ca/cfc_locations/la-fondation-du-grand-montrzal-the-foundation-of-greater-montreal/\n",
      "https://communityfoundations.ca/cfc_locations/battlefords-and-district-community-foundation-inc/\n",
      "https://communityfoundations.ca/cfc_locations/family-friends-community-foundation-inc/\n",
      "https://communityfoundations.ca/cfc_locations/prince-albert-and-area-community-foundation-inc/\n",
      "https://communityfoundations.ca/cfc_locations/saskatoon-community-foundation/\n",
      "https://communityfoundations.ca/cfc_locations/south-saskatchewan-community-foundation-inc/\n",
      "https://communityfoundations.ca/cfc_locations/the-yukon-foundation/\n",
      "https://communityfoundations.ca\n",
      "/feed\n",
      "https://twitter.com/CommFdnsCanada\n",
      "https://www.facebook.com/CommunityFdnsCanadaHome\n",
      "https://flickr.com/communityfoundationsofcanada\n",
      "https://youtube.com/user/cfcteam\n",
      "/find-a-community-foundation/\n",
      "/events\n",
      "https://communityfoundations.ca/contact-us/\n",
      "https://communityfoundations.ca/privacy-policy/\n",
      "https://communityfoundations.ca/sitemap/\n"
     ]
    }
   ],
   "source": [
    "for tag in a_containers:\n",
    "    print(tag.get('href'))"
   ]
  },
  {
   "cell_type": "code",
   "execution_count": 89,
   "metadata": {},
   "outputs": [],
   "source": [
    "aCF_containers = html_soup.find_all(\"a\", href=re.compile(\"cfc_locations\"))\n"
   ]
  },
  {
   "cell_type": "code",
   "execution_count": 90,
   "metadata": {},
   "outputs": [
    {
     "data": {
      "text/plain": [
       "194"
      ]
     },
     "execution_count": 90,
     "metadata": {},
     "output_type": "execute_result"
    }
   ],
   "source": [
    "len(aCF_containers)"
   ]
  },
  {
   "cell_type": "code",
   "execution_count": 87,
   "metadata": {},
   "outputs": [
    {
     "name": "stdout",
     "output_type": "stream",
     "text": [
      "https://communityfoundations.ca/cfc_locations/wood-buffalo-community-foundation/\n",
      "https://communityfoundations.ca/cfc_locations/airdrie-and-district-community-foundation/\n",
      "https://communityfoundations.ca/cfc_locations/the-banff-community-foundation/\n",
      "https://communityfoundations.ca/cfc_locations/battle-river-community-foundation/\n",
      "https://communityfoundations.ca/cfc_locations/community-foundation-of-lethbridge-and-southwestern-alberta/\n",
      "https://communityfoundations.ca/cfc_locations/community-foundation-of-northwestern-alberta/\n",
      "https://communityfoundations.ca/cfc_locations/community-foundation-of-medicine-hat-and-southeastern-alberta/\n",
      "https://communityfoundations.ca/cfc_locations/drayton-valley-community-foundation/\n",
      "https://communityfoundations.ca/cfc_locations/edmonton-community-foundation/\n",
      "https://communityfoundations.ca/cfc_locations/red-deer-district-community-foundation/\n",
      "https://communityfoundations.ca/cfc_locations/st-albert-community-foundation/\n",
      "https://communityfoundations.ca/cfc_locations/the-calgary-foundation/\n",
      "https://communityfoundations.ca/cfc_locations/abbotsford-community-foundation/\n",
      "https://communityfoundations.ca/cfc_locations/alberni-valley-community-foundation/\n",
      "https://communityfoundations.ca/cfc_locations/kamloops-foundation/\n",
      "https://communityfoundations.ca/cfc_locations/bowen-island-community-foundation/\n",
      "https://communityfoundations.ca/cfc_locations/bulkley-valley-community-foundation/\n",
      "https://communityfoundations.ca/cfc_locations/campbell-river-community-foundation/\n",
      "https://communityfoundations.ca/cfc_locations/central-okanagan-foundation/\n",
      "https://communityfoundations.ca/cfc_locations/clayoquot-biosphere-trust/\n",
      "https://communityfoundations.ca/cfc_locations/columbia-valley-community-foundation/\n",
      "https://communityfoundations.ca/cfc_locations/community-foundation-of-castlegar-district/\n",
      "https://communityfoundations.ca/cfc_locations/cranbrook-district-community-foundation/\n",
      "https://communityfoundations.ca/cfc_locations/community-foundation-of-the-north-okanagan/\n",
      "https://communityfoundations.ca/cfc_locations/community-foundation-of-the-south-okanagan/\n",
      "https://communityfoundations.ca/cfc_locations/community-foundation-of-whistler/\n",
      "https://communityfoundations.ca/cfc_locations/comox-valley-community-foundation/\n",
      "https://communityfoundations.ca/cfc_locations/coquitlam-foundation/\n",
      "https://communityfoundations.ca/cfc_locations/creston-kootenay-foundation/\n",
      "https://communityfoundations.ca/cfc_locations/delta-foundation/\n",
      "https://communityfoundations.ca/cfc_locations/golden-district-community-foundation/\n",
      "https://communityfoundations.ca/cfc_locations/haida-gwaii-community-foundation/\n",
      "https://communityfoundations.ca/cfc_locations/kimberley-and-district-community-foundation/\n",
      "https://communityfoundations.ca/cfc_locations/kitimat-community-foundation/\n",
      "https://communityfoundations.ca/cfc_locations/leroi-community-foundation/\n",
      "https://communityfoundations.ca/cfc_locations/maple-ridge-community-foundation/\n",
      "https://communityfoundations.ca/cfc_locations/mission-community-foundation/\n",
      "https://communityfoundations.ca/cfc_locations/nakusp-and-area-community-foundation/\n",
      "https://communityfoundations.ca/cfc_locations/the-nanaimo-community-foundation/\n",
      "https://communityfoundations.ca/cfc_locations/north-shore-community-foundation/\n",
      "https://communityfoundations.ca/cfc_locations/north-thompson-communities-foundation/\n",
      "https://communityfoundations.ca/cfc_locations/northeast-regional-community-foundation/\n",
      "https://communityfoundations.ca/cfc_locations/osprey-community-foundation/\n",
      "https://communityfoundations.ca/cfc_locations/parksville-qualicum-foundation/\n",
      "https://communityfoundations.ca/cfc_locations/phoenix-foundation-of-the-boundary-communities/\n",
      "https://communityfoundations.ca/cfc_locations/pitt-meadows-community-foundation/\n",
      "https://communityfoundations.ca/cfc_locations/port-coquitlam-community-foundation/\n",
      "https://communityfoundations.ca/cfc_locations/port-moody-foundation/\n",
      "https://communityfoundations.ca/cfc_locations/powell-river-community-foundation/\n",
      "https://communityfoundations.ca/cfc_locations/prince-rupert-regional-community-foundation/\n",
      "https://communityfoundations.ca/cfc_locations/quesnel-community-foundation/\n",
      "https://communityfoundations.ca/cfc_locations/revelstoke-community-foundation/\n",
      "https://communityfoundations.ca/cfc_locations/richmond-community-foundation/\n",
      "https://communityfoundations.ca/cfc_locations/salt-spring-island-foundation/\n",
      "https://communityfoundations.ca/cfc_locations/shuswap-community-foundation/\n",
      "https://communityfoundations.ca/cfc_locations/squamish-community-foundation/\n",
      "https://communityfoundations.ca/cfc_locations/sunshine-coast-community-foundation/\n",
      "https://communityfoundations.ca/cfc_locations/surrey-cares/\n",
      "https://communityfoundations.ca/cfc_locations/the-prince-george-community-foundation/\n",
      "https://communityfoundations.ca/cfc_locations/thetis-island-community-fund/\n",
      "https://communityfoundations.ca/cfc_locations/vancouver-foundation/\n",
      "https://communityfoundations.ca/cfc_locations/victoria-foundation/\n",
      "https://communityfoundations.ca/cfc_locations/west-vancouver-community-foundation/\n",
      "https://communityfoundations.ca/cfc_locations/beautiful-plains-community-foundation-inc/\n",
      "https://communityfoundations.ca/cfc_locations/big-grass-community-foundation-inc/\n",
      "https://communityfoundations.ca/cfc_locations/birtle-and-district-foundation/\n",
      "https://communityfoundations.ca/cfc_locations/brandon-area-community-foundation-inc/\n",
      "https://communityfoundations.ca/cfc_locations/brokenhead-river-community-foundation-inc/\n",
      "https://communityfoundations.ca/cfc_locations/carberry-and-area-community-foundation-inc/\n",
      "https://communityfoundations.ca/cfc_locations/coldwell-community-foundation/\n",
      "https://communityfoundations.ca/cfc_locations/community-foundation-of-portage-and-district-inc/\n",
      "https://communityfoundations.ca/cfc_locations/community-foundation-of-swan-valley-inc/\n",
      "https://communityfoundations.ca/cfc_locations/cypress-river-area-foundation-inc/\n",
      "https://communityfoundations.ca/cfc_locations/dauphin-district-community-foundation/\n",
      "https://communityfoundations.ca/cfc_locations/elkhorn-area-foundation/\n",
      "https://communityfoundations.ca/cfc_locations/francofonds-la-fondation-communautaire-du-manitoba-francais/\n",
      "https://communityfoundations.ca/cfc_locations/grandview-district-community-foundation/\n",
      "https://communityfoundations.ca/cfc_locations/hamiota-community-foundation/\n",
      "https://communityfoundations.ca/cfc_locations/headingley-community-foundation/\n",
      "https://communityfoundations.ca/cfc_locations/holland-area-community-foundation-inc/\n",
      "https://communityfoundations.ca/cfc_locations/icelandic-river-community-foundation/\n",
      "https://communityfoundations.ca/cfc_locations/lac-du-bonnet-and-district-foundation/\n",
      "https://communityfoundations.ca/cfc_locations/living-legacy-community-foundation/\n",
      "https://communityfoundations.ca/cfc_locations/miami-and-area-foundation-inc/\n",
      "https://communityfoundations.ca/cfc_locations/minnedosa-district-foundation-inc/\n",
      "https://communityfoundations.ca/cfc_locations/morden-area-foundation-inc/\n",
      "https://communityfoundations.ca/cfc_locations/north-norfolk-macgregor-foundation-inc/\n",
      "https://communityfoundations.ca/cfc_locations/northern-neighbours-foundation-inc/\n",
      "https://communityfoundations.ca/cfc_locations/oak-lake-area-foundation-inc/\n",
      "https://communityfoundations.ca/cfc_locations/pembina-manitou-area-foundation-inc/\n",
      "https://communityfoundations.ca/cfc_locations/pilot-mound-district-foundation-inc/\n",
      "https://communityfoundations.ca/cfc_locations/pinawa-community-foundation-inc/\n",
      "https://communityfoundations.ca/cfc_locations/plum-coulee-community-foundation/\n",
      "https://communityfoundations.ca/cfc_locations/reston-and-area-foundation-inc/\n",
      "https://communityfoundations.ca/cfc_locations/rivers-and-area-community-foundation-inc/\n",
      "https://communityfoundations.ca/cfc_locations/roblin-district-community-foundation/\n",
      "https://communityfoundations.ca/cfc_locations/selkirk-district-community-foundation/\n",
      "https://communityfoundations.ca/cfc_locations/shoal-lake-community-foundation/\n",
      "https://communityfoundations.ca/cfc_locations/souris-glenwood-foundation-inc/\n",
      "https://communityfoundations.ca/cfc_locations/sturgeon-community-foundation-inc/\n",
      "https://communityfoundations.ca/cfc_locations/the-altona-community-foundation-inc/\n",
      "https://communityfoundations.ca/cfc_locations/the-boissevain-and-morton-foundation-incorporated/\n",
      "https://communityfoundations.ca/cfc_locations/the-carman-area-foundation-inc/\n",
      "https://communityfoundations.ca/cfc_locations/the-cartwright-and-area-foundation-inc/\n",
      "https://communityfoundations.ca/cfc_locations/the-glenboro-area-foundation-inc/\n",
      "https://communityfoundations.ca/cfc_locations/the-interlake-community-foundation-inc/\n",
      "https://communityfoundations.ca/cfc_locations/the-killarney-foundation-inc/\n",
      "https://communityfoundations.ca/cfc_locations/the-morris-area-foundation-inc/\n",
      "https://communityfoundations.ca/cfc_locations/the-southwest-manitoba-regional-foundation/\n",
      "https://communityfoundations.ca/cfc_locations/the-steinbach-community-foundation-inc/\n",
      "https://communityfoundations.ca/cfc_locations/the-winnipeg-foundation/\n",
      "https://communityfoundations.ca/cfc_locations/thompson-community-foundation/\n",
      "https://communityfoundations.ca/cfc_locations/tiger-hills-community-foundation-inc/\n",
      "https://communityfoundations.ca/cfc_locations/virden-area-foundation-inc/\n",
      "https://communityfoundations.ca/cfc_locations/wawanesa-community-foundation-inc/\n",
      "https://communityfoundations.ca/cfc_locations/westshore-community-foundation-inc/\n",
      "https://communityfoundations.ca/cfc_locations/winkler-community-foundation-inc/\n",
      "https://communityfoundations.ca/cfc_locations/carleton-north-community-foundation/\n",
      "https://communityfoundations.ca/cfc_locations/fondation-communautaire-de-la-peninsule-acadienne-inc/\n",
      "https://communityfoundations.ca/cfc_locations/fredericton-community-foundation-inc/\n",
      "https://communityfoundations.ca/cfc_locations/fundy-community-foundation/\n",
      "https://communityfoundations.ca/cfc_locations/sussex-area-community-foundation-inc/\n",
      "https://communityfoundations.ca/cfc_locations/the-greater-saint-john-community-foundation/\n",
      "https://communityfoundations.ca/cfc_locations/community-foundation-of-newfoundland-and-labrador/\n",
      "https://communityfoundations.ca/cfc_locations/yellowknife-community-foundation/\n",
      "https://communityfoundations.ca/cfc_locations/community-foundation-of-nova-scotia/\n",
      "https://communityfoundations.ca/cfc_locations/rural-communities-foundation-of-nova-scotia/\n",
      "https://communityfoundations.ca/cfc_locations/aylmer-area-community-foundation/\n",
      "https://communityfoundations.ca/cfc_locations/barrie-community-foundation/\n",
      "https://communityfoundations.ca/cfc_locations/bradford-west-gwillimbury-and-district-community-foundation-bwgdcf/\n",
      "https://communityfoundations.ca/cfc_locations/brampton-and-area-community-foundation/\n",
      "https://communityfoundations.ca/cfc_locations/brant-community-foundation/\n",
      "https://communityfoundations.ca/cfc_locations/brockville-and-area-community-foundation/\n",
      "https://communityfoundations.ca/cfc_locations/burlington-community-foundation/\n",
      "https://communityfoundations.ca/cfc_locations/caledonia-community-foundation/\n",
      "https://communityfoundations.ca/cfc_locations/cambridge-north-dumfries-community-foundation/\n",
      "https://communityfoundations.ca/cfc_locations/campbellfordseymour-community-foundation/\n",
      "https://communityfoundations.ca/cfc_locations/centre-wellington-community-foundation/\n",
      "https://communityfoundations.ca/cfc_locations/community-foundation-for-kingston-area/\n",
      "https://communityfoundations.ca/cfc_locations/napanee-district-community-foundation/\n",
      "https://communityfoundations.ca/cfc_locations/community-foundation-grey-bruce/\n",
      "https://communityfoundations.ca/cfc_locations/community-foundation-of-greater-peterborough/\n",
      "https://communityfoundations.ca/cfc_locations/community-foundation-of-halton-north/\n",
      "https://communityfoundations.ca/cfc_locations/community-foundation-of-mississauga/\n",
      "https://communityfoundations.ca/cfc_locations/durham-community-foundation/\n",
      "https://communityfoundations.ca/cfc_locations/elgin-st-thomas-community-foundation/\n",
      "https://communityfoundations.ca/cfc_locations/fondation-communautaire-du-temiskaming/\n",
      "https://communityfoundations.ca/cfc_locations/forest-community-foundation/\n",
      "https://communityfoundations.ca/cfc_locations/grand-bend-community-foundation/\n",
      "https://communityfoundations.ca/cfc_locations/hamilton-community-foundation/\n",
      "https://communityfoundations.ca/cfc_locations/huronia-community-foundation-la-fondation-communautaire-de-la-huronie/\n",
      "https://communityfoundations.ca/cfc_locations/kenora-and-lake-of-the-woods-regional-community-foundation/\n",
      "https://communityfoundations.ca/cfc_locations/london-community-foundation/\n",
      "https://communityfoundations.ca/cfc_locations/muskoka-community-foundation/\n",
      "https://communityfoundations.ca/cfc_locations/niagara-community-foundation/\n",
      "https://communityfoundations.ca/cfc_locations/north-bay-and-area-community-foundation/\n",
      "https://communityfoundations.ca/cfc_locations/oakville-community-foundation/\n",
      "https://communityfoundations.ca/cfc_locations/community-foundation-of-ottawa-fondation-communautaire-dottawa/\n",
      "https://communityfoundations.ca/cfc_locations/oxford-community-foundation/\n",
      "https://communityfoundations.ca/cfc_locations/pembroke-petawawa-district-community-foundation/\n",
      "https://communityfoundations.ca/cfc_locations/sarnia-community-foundation/\n",
      "https://communityfoundations.ca/cfc_locations/stratford-and-perth-county-community-foundation/\n",
      "https://communityfoundations.ca/cfc_locations/sudbury-community-foundationfondation-communautaire-de-sudbury/\n",
      "https://communityfoundations.ca/cfc_locations/the-chatham-kent-community-foundation/\n",
      "https://communityfoundations.ca/cfc_locations/the-community-foundation-of-orillia-and-area/\n",
      "https://communityfoundations.ca/cfc_locations/prince-edward-county-community-foundation/\n",
      "https://communityfoundations.ca/cfc_locations/the-deep-river-and-district-community-foundation/\n",
      "https://communityfoundations.ca/cfc_locations/the-dufferin-community-foundation/\n",
      "https://communityfoundations.ca/cfc_locations/the-guelph-community-foundation/\n",
      "https://communityfoundations.ca/cfc_locations/the-kitchener-and-waterloo-community-foundation/\n",
      "https://communityfoundations.ca/cfc_locations/the-norfolk-community-foundation/\n",
      "https://communityfoundations.ca/cfc_locations/the-perth-and-district-community-foundation/\n",
      "https://communityfoundations.ca/cfc_locations/the-temagami-community-foundation/\n",
      "https://communityfoundations.ca/cfc_locations/the-temiskaming-foundation/\n",
      "https://communityfoundations.ca/cfc_locations/thunder-bay-community-foundation/\n",
      "https://communityfoundations.ca/cfc_locations/toronto-community-foundation/\n",
      "https://communityfoundations.ca/cfc_locations/windsoressex-community-foundation/\n",
      "https://communityfoundations.ca/cfc_locations/the-community-foundation-of-prince-edward-island/\n",
      "https://communityfoundations.ca/cfc_locations/la-fondation-communautaire-de-lestrie/\n",
      "https://communityfoundations.ca/cfc_locations/eenou-eeyou-community-foundation/\n",
      "https://communityfoundations.ca/cfc_locations/fondation-communautaire-de-labitibi-temiscamingue/\n",
      "https://communityfoundations.ca/cfc_locations/fondation-communautaire-de-lanaudi%c2%8fre/\n",
      "https://communityfoundations.ca/cfc_locations/fondation-communautaire-du-saguenay-lac-saint-jean/\n",
      "https://communityfoundations.ca/cfc_locations/fondation-communautaire-du-saint-maurice/\n",
      "https://communityfoundations.ca/cfc_locations/fondation-communautaire-gaspesie-les-eles/\n",
      "https://communityfoundations.ca/cfc_locations/fondation-laurentides/\n",
      "https://communityfoundations.ca/cfc_locations/fondation-communautaire-du-grand-quebec/\n",
      "https://communityfoundations.ca/cfc_locations/la-fondation-du-grand-montrzal-the-foundation-of-greater-montreal/\n",
      "https://communityfoundations.ca/cfc_locations/battlefords-and-district-community-foundation-inc/\n",
      "https://communityfoundations.ca/cfc_locations/family-friends-community-foundation-inc/\n",
      "https://communityfoundations.ca/cfc_locations/prince-albert-and-area-community-foundation-inc/\n",
      "https://communityfoundations.ca/cfc_locations/saskatoon-community-foundation/\n",
      "https://communityfoundations.ca/cfc_locations/south-saskatchewan-community-foundation-inc/\n",
      "https://communityfoundations.ca/cfc_locations/the-yukon-foundation/\n"
     ]
    }
   ],
   "source": [
    "for tag in aCF_containers:\n",
    "    print(tag.get('href'))"
   ]
  },
  {
   "cell_type": "code",
   "execution_count": 15,
   "metadata": {},
   "outputs": [
    {
     "name": "stdout",
     "output_type": "stream",
     "text": [
      "<!doctype html>\n",
      "<!--[if lt IE 7]> <html class=\"no-js ie6 oldie\" lang=\"en-US\" prefix=\"og: http://ogp.me/ns#\"> <![endif]-->\n",
      "<!--[if IE 7]>    <html class=\"no-js ie7 oldie\" lang=\"en-US\" prefix=\"og: http://ogp.me/ns#\"> <![endif]-->\n",
      "<!--[if IE 8]>    <html class=\"no-js ie8 oldie\" lang=\"en-US\" prefix=\"og: http://ogp.me/ns#\"> <![endif]-->\n",
      "<!--[if IE 9]>    <html class=\"no-js ie9 oldie\" lang=\"en-US\" prefix=\"og: http://ogp.me/ns#\"> <![endif]-->\n",
      "<!--[if gt IE 9]><!--> <html class=\"no-js\" lang=\"en-US\" pref\n"
     ]
    }
   ],
   "source": [
    "url = 'https://communityfoundations.ca/cfc_locations/the-banff-community-foundation/'\n",
    "\n",
    "subresponse = get(url)\n",
    "print(subresponse.text[:500])\n"
   ]
  },
  {
   "cell_type": "code",
   "execution_count": 16,
   "metadata": {},
   "outputs": [
    {
     "name": "stdout",
     "output_type": "stream",
     "text": [
      "<class 'bs4.element.ResultSet'>\n",
      "1\n"
     ]
    }
   ],
   "source": [
    "html_subsoup = BeautifulSoup(subresponse.text, 'html.parser')\n",
    "addr_containers = html_subsoup.find_all('div', class_ = 'single-meta single-event')\n",
    "print(type(addr_containers))\n",
    "print(len(addr_containers))"
   ]
  },
  {
   "cell_type": "code",
   "execution_count": 17,
   "metadata": {},
   "outputs": [
    {
     "data": {
      "text/plain": [
       "<div class=\"single-meta single-event\">\n",
       "<p class=\"meta-line location\">214 Banff Avenue/Box 3100  | Banff | T1L 1C7</p>\n",
       "<p class=\"meta-line phone\"><a href=\"tel:403-762-8549\">403-762-8549</a></p>\n",
       "<p class=\"meta-line link\"><a href=\"http://www.banffcanmorecf.org\">www.banffcanmorecf.org</a></p>\n",
       "<p class=\"meta-line contact\">Rob Buffler, Executive Director</p>\n",
       "</div>"
      ]
     },
     "execution_count": 17,
     "metadata": {},
     "output_type": "execute_result"
    }
   ],
   "source": [
    "first_subcfc = addr_containers[0]\n",
    "first_subcfc"
   ]
  },
  {
   "cell_type": "code",
   "execution_count": 37,
   "metadata": {},
   "outputs": [
    {
     "name": "stdout",
     "output_type": "stream",
     "text": [
      "<class 'bs4.element.ResultSet'>\n",
      "1\n"
     ]
    },
    {
     "data": {
      "text/plain": [
       "'214 Banff Avenue/Box 3100  | Banff | T1L 1C7'"
      ]
     },
     "execution_count": 37,
     "metadata": {},
     "output_type": "execute_result"
    }
   ],
   "source": [
    "c_1ocation = html_subsoup.find_all('p', class_ = 'meta-line location')\n",
    "print(type(c_1ocation))\n",
    "print(len(c_1ocation))\n",
    "ctext_location = c_1ocation[0]\n",
    "ctext_location.text"
   ]
  },
  {
   "cell_type": "code",
   "execution_count": 46,
   "metadata": {},
   "outputs": [
    {
     "name": "stdout",
     "output_type": "stream",
     "text": [
      "<class 'bs4.element.ResultSet'>\n",
      "1\n"
     ]
    },
    {
     "data": {
      "text/plain": [
       "'403-762-8549'"
      ]
     },
     "execution_count": 46,
     "metadata": {},
     "output_type": "execute_result"
    }
   ],
   "source": [
    "c_phone = html_subsoup.find_all('p', class_ = 'meta-line phone')\n",
    "print(type(c_phone))\n",
    "print(len(c_phone))\n",
    "ctext_phone = c_phone[0]\n",
    "ctext_phone.text"
   ]
  },
  {
   "cell_type": "code",
   "execution_count": 47,
   "metadata": {},
   "outputs": [
    {
     "name": "stdout",
     "output_type": "stream",
     "text": [
      "<class 'bs4.element.ResultSet'>\n",
      "1\n"
     ]
    },
    {
     "data": {
      "text/plain": [
       "'www.banffcanmorecf.org'"
      ]
     },
     "execution_count": 47,
     "metadata": {},
     "output_type": "execute_result"
    }
   ],
   "source": [
    "c_link = html_subsoup.find_all('p', class_ = 'meta-line link')\n",
    "print(type(c_link))\n",
    "print(len(c_link))\n",
    "ctext_link = c_link[0]\n",
    "ctext_link.text"
   ]
  },
  {
   "cell_type": "code",
   "execution_count": 52,
   "metadata": {},
   "outputs": [
    {
     "name": "stdout",
     "output_type": "stream",
     "text": [
      "<class 'bs4.element.ResultSet'>\n",
      "1\n"
     ]
    },
    {
     "data": {
      "text/plain": [
       "'Rob Buffler, Executive Director'"
      ]
     },
     "execution_count": 52,
     "metadata": {},
     "output_type": "execute_result"
    }
   ],
   "source": [
    "c_contact = html_subsoup.find_all('p', class_ = 'meta-line contact')\n",
    "print(type(c_contact))\n",
    "print(len(c_contact))\n",
    "ctext_contact = c_contact[0]\n",
    "ctext_contact.text\n",
    "c_contact[0].text"
   ]
  },
  {
   "cell_type": "code",
   "execution_count": 57,
   "metadata": {},
   "outputs": [
    {
     "name": "stdout",
     "output_type": "stream",
     "text": [
      "214 Banff Avenue/Box 3100  | Banff | T1L 1C7\n",
      "403-762-8549\n",
      "www.banffcanmorecf.org\n",
      "Rob Buffler, Executive Director\n"
     ]
    }
   ],
   "source": [
    "for link in html_subsoup.find_all('p'):\n",
    "    #print(type(link))\n",
    "    #print(len(link))\n",
    "    print(link.text)"
   ]
  },
  {
   "cell_type": "code",
   "execution_count": null,
   "metadata": {},
   "outputs": [],
   "source": []
  }
 ],
 "metadata": {
  "kernelspec": {
   "display_name": "Python 3",
   "language": "python",
   "name": "python3"
  },
  "language_info": {
   "codemirror_mode": {
    "name": "ipython",
    "version": 3
   },
   "file_extension": ".py",
   "mimetype": "text/x-python",
   "name": "python",
   "nbconvert_exporter": "python",
   "pygments_lexer": "ipython3",
   "version": "3.5.6"
  }
 },
 "nbformat": 4,
 "nbformat_minor": 2
}
