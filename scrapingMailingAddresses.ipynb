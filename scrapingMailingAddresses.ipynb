{
 "cells": [
  {
   "cell_type": "code",
   "execution_count": 125,
   "metadata": {},
   "outputs": [],
   "source": [
    "# import libraries\n",
    "from requests import get\n",
    "from bs4 import BeautifulSoup\n",
    "import regex as re\n",
    "import csv\n",
    "import nltk\n",
    "from nltk.tokenize import word_tokenize\n",
    "from nltk.tag import pos_tag"
   ]
  },
  {
   "cell_type": "code",
   "execution_count": 134,
   "metadata": {},
   "outputs": [],
   "source": [
    "import spacy\n",
    "from spacy import displacy\n",
    "from collections import Counter\n",
    "import en_core_web_sm\n",
    "nlp = en_core_web_sm.load()"
   ]
  },
  {
   "cell_type": "code",
   "execution_count": 3,
   "metadata": {},
   "outputs": [
    {
     "name": "stdout",
     "output_type": "stream",
     "text": [
      "<!doctype html>\n",
      "<!--[if lt IE 7]> <html class=\"no-js ie6 oldie\" lang=\"en-US\" prefix=\"og: http://ogp.me/ns#\"> <![endif]-->\n",
      "<!--[if IE 7]>    <html class=\"no-js ie7 oldie\" lang=\"en-US\" prefix=\"og: http://ogp.me/ns#\"> <![endif]-->\n",
      "<!--[if IE 8]>    <html class=\"no-js ie8 oldie\" lang=\"en-US\" prefix=\"og: http://ogp.me/ns#\"> <![endif]-->\n",
      "<!--[if IE 9]>    <html class=\"no-js ie9 oldie\" lang=\"en-US\" prefix=\"og: http://ogp.me/ns#\"> <![endif]-->\n",
      "<!--[if gt IE 9]><!--> <html class=\"no-js\" lang=\"en-US\" pref\n"
     ]
    }
   ],
   "source": [
    "url = 'https://communityfoundations.ca/find-a-community-foundation/'\n",
    "\n",
    "response = get(url)\n",
    "print(response.text[:500])"
   ]
  },
  {
   "cell_type": "code",
   "execution_count": 4,
   "metadata": {},
   "outputs": [
    {
     "data": {
      "text/plain": [
       "bs4.BeautifulSoup"
      ]
     },
     "execution_count": 4,
     "metadata": {},
     "output_type": "execute_result"
    }
   ],
   "source": [
    "html_soup = BeautifulSoup(response.text, 'html.parser')\n",
    "type(html_soup)"
   ]
  },
  {
   "cell_type": "code",
   "execution_count": 59,
   "metadata": {},
   "outputs": [
    {
     "name": "stdout",
     "output_type": "stream",
     "text": [
      "<class 'bs4.element.ResultSet'>\n",
      "194\n"
     ]
    }
   ],
   "source": [
    "info_containers = html_soup.find_all('h3')\n",
    "print(type(info_containers))\n",
    "print(len(info_containers))"
   ]
  },
  {
   "cell_type": "code",
   "execution_count": 64,
   "metadata": {},
   "outputs": [
    {
     "data": {
      "text/plain": [
       "<h3><a href=\"https://communityfoundations.ca/cfc_locations/wood-buffalo-community-foundation/\">Wood Buffalo Community Foundation</a></h3>"
      ]
     },
     "execution_count": 64,
     "metadata": {},
     "output_type": "execute_result"
    }
   ],
   "source": [
    "first_cfc = info_containers[0]\n",
    "first_cfc"
   ]
  },
  {
   "cell_type": "code",
   "execution_count": 123,
   "metadata": {},
   "outputs": [
    {
     "data": {
      "text/plain": [
       "'Wood Buffalo Community Foundation'"
      ]
     },
     "execution_count": 123,
     "metadata": {},
     "output_type": "execute_result"
    }
   ],
   "source": [
    "location_title = first_cfc.text\n",
    "location_title"
   ]
  },
  {
   "cell_type": "code",
   "execution_count": 68,
   "metadata": {},
   "outputs": [
    {
     "data": {
      "text/plain": [
       "<h3><a href=\"https://communityfoundations.ca/cfc_locations/the-yukon-foundation/\">The Yukon Foundation</a></h3>"
      ]
     },
     "execution_count": 68,
     "metadata": {},
     "output_type": "execute_result"
    }
   ],
   "source": [
    "cfc2 = info_containers[193]\n",
    "cfc2"
   ]
  },
  {
   "cell_type": "code",
   "execution_count": 75,
   "metadata": {},
   "outputs": [],
   "source": [
    "a_containers = html_soup.find_all('a')\n"
   ]
  },
  {
   "cell_type": "code",
   "execution_count": 76,
   "metadata": {},
   "outputs": [
    {
     "name": "stdout",
     "output_type": "stream",
     "text": [
      "None\n",
      "None\n",
      "/feed\n",
      "https://twitter.com/CommFdnsCanada\n",
      "https://www.facebook.com/CommunityFdnsCanadaHome\n",
      "https://flickr.com/communityfoundationsofcanada\n",
      "https://youtube.com/user/cfcteam\n",
      "https://communityfoundations.ca/fr/find-a-community-foundation/\n",
      "https://communityfoundations.ca/\n",
      "https://communityfoundations.ca/news/\n",
      "https://communityfoundations.ca/contact-us/\n",
      "https://communityfoundations.ca\n",
      "#\n",
      "https://communityfoundations.ca/about/\n",
      "https://communityfoundations.ca/wp-content/uploads/2018/08/CFC046_AR2017_Digital_Aug28.pdf\n",
      "https://communityfoundations.ca/2016-annual-report/\n",
      "https://communityfoundations.ca/contact-us/\n",
      "https://communityfoundations.ca/board-of-directors/\n",
      "https://communityfoundations.ca/champions/\n",
      "https://communityfoundations.ca/find-a-community-foundation/\n",
      "https://communityfoundations.ca/careers/\n",
      "#\n",
      "https://communityfoundations.ca/our-work/\n",
      "https://communityfoundations.ca/conference-2019/\n",
      "https://communityfoundations.ca/vitalsigns/\n",
      "https://communityfoundations.ca/our-work/\n",
      "#\n",
      "https://communityfoundations.ca/learning-institute/\n",
      "https://communityfoundations.ca/foundation-development/\n",
      "https://communityfoundations.ca/learning-institute/resource-library/\n",
      "https://communityfoundations.ca/events\n",
      "https://communityfoundations.ca/learning-institute/network-benefits/\n",
      "https://communityfoundations.ca/data-hub/\n",
      "/partners\n",
      "https://communityfoundations.ca/about/get-involved/\n",
      "mailto:jpnikota@communityfoundations.ca\n",
      "None\n",
      "https://communityfoundations.ca/cfc_locations/wood-buffalo-community-foundation/\n",
      "https://communityfoundations.ca/cfc_locations/airdrie-and-district-community-foundation/\n",
      "https://communityfoundations.ca/cfc_locations/the-banff-community-foundation/\n",
      "https://communityfoundations.ca/cfc_locations/battle-river-community-foundation/\n",
      "https://communityfoundations.ca/cfc_locations/community-foundation-of-lethbridge-and-southwestern-alberta/\n",
      "https://communityfoundations.ca/cfc_locations/community-foundation-of-northwestern-alberta/\n",
      "https://communityfoundations.ca/cfc_locations/community-foundation-of-medicine-hat-and-southeastern-alberta/\n",
      "https://communityfoundations.ca/cfc_locations/drayton-valley-community-foundation/\n",
      "https://communityfoundations.ca/cfc_locations/edmonton-community-foundation/\n",
      "https://communityfoundations.ca/cfc_locations/red-deer-district-community-foundation/\n",
      "https://communityfoundations.ca/cfc_locations/st-albert-community-foundation/\n",
      "https://communityfoundations.ca/cfc_locations/the-calgary-foundation/\n",
      "https://communityfoundations.ca/cfc_locations/abbotsford-community-foundation/\n",
      "https://communityfoundations.ca/cfc_locations/alberni-valley-community-foundation/\n",
      "https://communityfoundations.ca/cfc_locations/kamloops-foundation/\n",
      "https://communityfoundations.ca/cfc_locations/bowen-island-community-foundation/\n",
      "https://communityfoundations.ca/cfc_locations/bulkley-valley-community-foundation/\n",
      "https://communityfoundations.ca/cfc_locations/campbell-river-community-foundation/\n",
      "https://communityfoundations.ca/cfc_locations/central-okanagan-foundation/\n",
      "https://communityfoundations.ca/cfc_locations/clayoquot-biosphere-trust/\n",
      "https://communityfoundations.ca/cfc_locations/columbia-valley-community-foundation/\n",
      "https://communityfoundations.ca/cfc_locations/community-foundation-of-castlegar-district/\n",
      "https://communityfoundations.ca/cfc_locations/cranbrook-district-community-foundation/\n",
      "https://communityfoundations.ca/cfc_locations/community-foundation-of-the-north-okanagan/\n",
      "https://communityfoundations.ca/cfc_locations/community-foundation-of-the-south-okanagan/\n",
      "https://communityfoundations.ca/cfc_locations/community-foundation-of-whistler/\n",
      "https://communityfoundations.ca/cfc_locations/comox-valley-community-foundation/\n",
      "https://communityfoundations.ca/cfc_locations/coquitlam-foundation/\n",
      "https://communityfoundations.ca/cfc_locations/creston-kootenay-foundation/\n",
      "https://communityfoundations.ca/cfc_locations/delta-foundation/\n",
      "https://communityfoundations.ca/cfc_locations/golden-district-community-foundation/\n",
      "https://communityfoundations.ca/cfc_locations/haida-gwaii-community-foundation/\n",
      "https://communityfoundations.ca/cfc_locations/kimberley-and-district-community-foundation/\n",
      "https://communityfoundations.ca/cfc_locations/kitimat-community-foundation/\n",
      "https://communityfoundations.ca/cfc_locations/leroi-community-foundation/\n",
      "https://communityfoundations.ca/cfc_locations/maple-ridge-community-foundation/\n",
      "https://communityfoundations.ca/cfc_locations/mission-community-foundation/\n",
      "https://communityfoundations.ca/cfc_locations/nakusp-and-area-community-foundation/\n",
      "https://communityfoundations.ca/cfc_locations/the-nanaimo-community-foundation/\n",
      "https://communityfoundations.ca/cfc_locations/north-shore-community-foundation/\n",
      "https://communityfoundations.ca/cfc_locations/north-thompson-communities-foundation/\n",
      "https://communityfoundations.ca/cfc_locations/northeast-regional-community-foundation/\n",
      "https://communityfoundations.ca/cfc_locations/osprey-community-foundation/\n",
      "https://communityfoundations.ca/cfc_locations/parksville-qualicum-foundation/\n",
      "https://communityfoundations.ca/cfc_locations/phoenix-foundation-of-the-boundary-communities/\n",
      "https://communityfoundations.ca/cfc_locations/pitt-meadows-community-foundation/\n",
      "https://communityfoundations.ca/cfc_locations/port-coquitlam-community-foundation/\n",
      "https://communityfoundations.ca/cfc_locations/port-moody-foundation/\n",
      "https://communityfoundations.ca/cfc_locations/powell-river-community-foundation/\n",
      "https://communityfoundations.ca/cfc_locations/prince-rupert-regional-community-foundation/\n",
      "https://communityfoundations.ca/cfc_locations/quesnel-community-foundation/\n",
      "https://communityfoundations.ca/cfc_locations/revelstoke-community-foundation/\n",
      "https://communityfoundations.ca/cfc_locations/richmond-community-foundation/\n",
      "https://communityfoundations.ca/cfc_locations/salt-spring-island-foundation/\n",
      "https://communityfoundations.ca/cfc_locations/shuswap-community-foundation/\n",
      "https://communityfoundations.ca/cfc_locations/squamish-community-foundation/\n",
      "https://communityfoundations.ca/cfc_locations/sunshine-coast-community-foundation/\n",
      "https://communityfoundations.ca/cfc_locations/surrey-cares/\n",
      "https://communityfoundations.ca/cfc_locations/the-prince-george-community-foundation/\n",
      "https://communityfoundations.ca/cfc_locations/thetis-island-community-fund/\n",
      "https://communityfoundations.ca/cfc_locations/vancouver-foundation/\n",
      "https://communityfoundations.ca/cfc_locations/victoria-foundation/\n",
      "https://communityfoundations.ca/cfc_locations/west-vancouver-community-foundation/\n",
      "https://communityfoundations.ca/cfc_locations/beautiful-plains-community-foundation-inc/\n",
      "https://communityfoundations.ca/cfc_locations/big-grass-community-foundation-inc/\n",
      "https://communityfoundations.ca/cfc_locations/birtle-and-district-foundation/\n",
      "https://communityfoundations.ca/cfc_locations/brandon-area-community-foundation-inc/\n",
      "https://communityfoundations.ca/cfc_locations/brokenhead-river-community-foundation-inc/\n",
      "https://communityfoundations.ca/cfc_locations/carberry-and-area-community-foundation-inc/\n",
      "https://communityfoundations.ca/cfc_locations/coldwell-community-foundation/\n",
      "https://communityfoundations.ca/cfc_locations/community-foundation-of-portage-and-district-inc/\n",
      "https://communityfoundations.ca/cfc_locations/community-foundation-of-swan-valley-inc/\n",
      "https://communityfoundations.ca/cfc_locations/cypress-river-area-foundation-inc/\n",
      "https://communityfoundations.ca/cfc_locations/dauphin-district-community-foundation/\n",
      "https://communityfoundations.ca/cfc_locations/elkhorn-area-foundation/\n",
      "https://communityfoundations.ca/cfc_locations/francofonds-la-fondation-communautaire-du-manitoba-francais/\n",
      "https://communityfoundations.ca/cfc_locations/grandview-district-community-foundation/\n",
      "https://communityfoundations.ca/cfc_locations/hamiota-community-foundation/\n",
      "https://communityfoundations.ca/cfc_locations/headingley-community-foundation/\n",
      "https://communityfoundations.ca/cfc_locations/holland-area-community-foundation-inc/\n",
      "https://communityfoundations.ca/cfc_locations/icelandic-river-community-foundation/\n",
      "https://communityfoundations.ca/cfc_locations/lac-du-bonnet-and-district-foundation/\n",
      "https://communityfoundations.ca/cfc_locations/living-legacy-community-foundation/\n",
      "https://communityfoundations.ca/cfc_locations/miami-and-area-foundation-inc/\n",
      "https://communityfoundations.ca/cfc_locations/minnedosa-district-foundation-inc/\n",
      "https://communityfoundations.ca/cfc_locations/morden-area-foundation-inc/\n",
      "https://communityfoundations.ca/cfc_locations/north-norfolk-macgregor-foundation-inc/\n",
      "https://communityfoundations.ca/cfc_locations/northern-neighbours-foundation-inc/\n",
      "https://communityfoundations.ca/cfc_locations/oak-lake-area-foundation-inc/\n",
      "https://communityfoundations.ca/cfc_locations/pembina-manitou-area-foundation-inc/\n",
      "https://communityfoundations.ca/cfc_locations/pilot-mound-district-foundation-inc/\n",
      "https://communityfoundations.ca/cfc_locations/pinawa-community-foundation-inc/\n",
      "https://communityfoundations.ca/cfc_locations/plum-coulee-community-foundation/\n",
      "https://communityfoundations.ca/cfc_locations/reston-and-area-foundation-inc/\n",
      "https://communityfoundations.ca/cfc_locations/rivers-and-area-community-foundation-inc/\n",
      "https://communityfoundations.ca/cfc_locations/roblin-district-community-foundation/\n",
      "https://communityfoundations.ca/cfc_locations/selkirk-district-community-foundation/\n",
      "https://communityfoundations.ca/cfc_locations/shoal-lake-community-foundation/\n",
      "https://communityfoundations.ca/cfc_locations/souris-glenwood-foundation-inc/\n",
      "https://communityfoundations.ca/cfc_locations/sturgeon-community-foundation-inc/\n",
      "https://communityfoundations.ca/cfc_locations/the-altona-community-foundation-inc/\n",
      "https://communityfoundations.ca/cfc_locations/the-boissevain-and-morton-foundation-incorporated/\n",
      "https://communityfoundations.ca/cfc_locations/the-carman-area-foundation-inc/\n",
      "https://communityfoundations.ca/cfc_locations/the-cartwright-and-area-foundation-inc/\n",
      "https://communityfoundations.ca/cfc_locations/the-glenboro-area-foundation-inc/\n",
      "https://communityfoundations.ca/cfc_locations/the-interlake-community-foundation-inc/\n",
      "https://communityfoundations.ca/cfc_locations/the-killarney-foundation-inc/\n",
      "https://communityfoundations.ca/cfc_locations/the-morris-area-foundation-inc/\n",
      "https://communityfoundations.ca/cfc_locations/the-southwest-manitoba-regional-foundation/\n",
      "https://communityfoundations.ca/cfc_locations/the-steinbach-community-foundation-inc/\n",
      "https://communityfoundations.ca/cfc_locations/the-winnipeg-foundation/\n",
      "https://communityfoundations.ca/cfc_locations/thompson-community-foundation/\n",
      "https://communityfoundations.ca/cfc_locations/tiger-hills-community-foundation-inc/\n",
      "https://communityfoundations.ca/cfc_locations/virden-area-foundation-inc/\n",
      "https://communityfoundations.ca/cfc_locations/wawanesa-community-foundation-inc/\n",
      "https://communityfoundations.ca/cfc_locations/westshore-community-foundation-inc/\n",
      "https://communityfoundations.ca/cfc_locations/winkler-community-foundation-inc/\n",
      "https://communityfoundations.ca/cfc_locations/carleton-north-community-foundation/\n",
      "https://communityfoundations.ca/cfc_locations/fondation-communautaire-de-la-peninsule-acadienne-inc/\n",
      "https://communityfoundations.ca/cfc_locations/fredericton-community-foundation-inc/\n",
      "https://communityfoundations.ca/cfc_locations/fundy-community-foundation/\n",
      "https://communityfoundations.ca/cfc_locations/sussex-area-community-foundation-inc/\n",
      "https://communityfoundations.ca/cfc_locations/the-greater-saint-john-community-foundation/\n",
      "https://communityfoundations.ca/cfc_locations/community-foundation-of-newfoundland-and-labrador/\n",
      "https://communityfoundations.ca/cfc_locations/yellowknife-community-foundation/\n",
      "https://communityfoundations.ca/cfc_locations/community-foundation-of-nova-scotia/\n",
      "https://communityfoundations.ca/cfc_locations/rural-communities-foundation-of-nova-scotia/\n",
      "https://communityfoundations.ca/cfc_locations/aylmer-area-community-foundation/\n",
      "https://communityfoundations.ca/cfc_locations/barrie-community-foundation/\n",
      "https://communityfoundations.ca/cfc_locations/bradford-west-gwillimbury-and-district-community-foundation-bwgdcf/\n",
      "https://communityfoundations.ca/cfc_locations/brampton-and-area-community-foundation/\n",
      "https://communityfoundations.ca/cfc_locations/brant-community-foundation/\n",
      "https://communityfoundations.ca/cfc_locations/brockville-and-area-community-foundation/\n",
      "https://communityfoundations.ca/cfc_locations/burlington-community-foundation/\n",
      "https://communityfoundations.ca/cfc_locations/caledonia-community-foundation/\n",
      "https://communityfoundations.ca/cfc_locations/cambridge-north-dumfries-community-foundation/\n",
      "https://communityfoundations.ca/cfc_locations/campbellfordseymour-community-foundation/\n",
      "https://communityfoundations.ca/cfc_locations/centre-wellington-community-foundation/\n",
      "https://communityfoundations.ca/cfc_locations/community-foundation-for-kingston-area/\n",
      "https://communityfoundations.ca/cfc_locations/napanee-district-community-foundation/\n",
      "https://communityfoundations.ca/cfc_locations/community-foundation-grey-bruce/\n",
      "https://communityfoundations.ca/cfc_locations/community-foundation-of-greater-peterborough/\n",
      "https://communityfoundations.ca/cfc_locations/community-foundation-of-halton-north/\n",
      "https://communityfoundations.ca/cfc_locations/community-foundation-of-mississauga/\n",
      "https://communityfoundations.ca/cfc_locations/durham-community-foundation/\n",
      "https://communityfoundations.ca/cfc_locations/elgin-st-thomas-community-foundation/\n",
      "https://communityfoundations.ca/cfc_locations/fondation-communautaire-du-temiskaming/\n",
      "https://communityfoundations.ca/cfc_locations/forest-community-foundation/\n",
      "https://communityfoundations.ca/cfc_locations/grand-bend-community-foundation/\n",
      "https://communityfoundations.ca/cfc_locations/hamilton-community-foundation/\n",
      "https://communityfoundations.ca/cfc_locations/huronia-community-foundation-la-fondation-communautaire-de-la-huronie/\n",
      "https://communityfoundations.ca/cfc_locations/kenora-and-lake-of-the-woods-regional-community-foundation/\n",
      "https://communityfoundations.ca/cfc_locations/london-community-foundation/\n",
      "https://communityfoundations.ca/cfc_locations/muskoka-community-foundation/\n",
      "https://communityfoundations.ca/cfc_locations/niagara-community-foundation/\n",
      "https://communityfoundations.ca/cfc_locations/north-bay-and-area-community-foundation/\n",
      "https://communityfoundations.ca/cfc_locations/oakville-community-foundation/\n",
      "https://communityfoundations.ca/cfc_locations/community-foundation-of-ottawa-fondation-communautaire-dottawa/\n",
      "https://communityfoundations.ca/cfc_locations/oxford-community-foundation/\n",
      "https://communityfoundations.ca/cfc_locations/pembroke-petawawa-district-community-foundation/\n",
      "https://communityfoundations.ca/cfc_locations/sarnia-community-foundation/\n",
      "https://communityfoundations.ca/cfc_locations/stratford-and-perth-county-community-foundation/\n",
      "https://communityfoundations.ca/cfc_locations/sudbury-community-foundationfondation-communautaire-de-sudbury/\n",
      "https://communityfoundations.ca/cfc_locations/the-chatham-kent-community-foundation/\n",
      "https://communityfoundations.ca/cfc_locations/the-community-foundation-of-orillia-and-area/\n",
      "https://communityfoundations.ca/cfc_locations/prince-edward-county-community-foundation/\n",
      "https://communityfoundations.ca/cfc_locations/the-deep-river-and-district-community-foundation/\n",
      "https://communityfoundations.ca/cfc_locations/the-dufferin-community-foundation/\n",
      "https://communityfoundations.ca/cfc_locations/the-guelph-community-foundation/\n",
      "https://communityfoundations.ca/cfc_locations/the-kitchener-and-waterloo-community-foundation/\n",
      "https://communityfoundations.ca/cfc_locations/the-norfolk-community-foundation/\n",
      "https://communityfoundations.ca/cfc_locations/the-perth-and-district-community-foundation/\n",
      "https://communityfoundations.ca/cfc_locations/the-temagami-community-foundation/\n",
      "https://communityfoundations.ca/cfc_locations/the-temiskaming-foundation/\n",
      "https://communityfoundations.ca/cfc_locations/thunder-bay-community-foundation/\n",
      "https://communityfoundations.ca/cfc_locations/toronto-community-foundation/\n",
      "https://communityfoundations.ca/cfc_locations/windsoressex-community-foundation/\n",
      "https://communityfoundations.ca/cfc_locations/the-community-foundation-of-prince-edward-island/\n",
      "https://communityfoundations.ca/cfc_locations/la-fondation-communautaire-de-lestrie/\n",
      "https://communityfoundations.ca/cfc_locations/eenou-eeyou-community-foundation/\n",
      "https://communityfoundations.ca/cfc_locations/fondation-communautaire-de-labitibi-temiscamingue/\n",
      "https://communityfoundations.ca/cfc_locations/fondation-communautaire-de-lanaudi%c2%8fre/\n",
      "https://communityfoundations.ca/cfc_locations/fondation-communautaire-du-saguenay-lac-saint-jean/\n",
      "https://communityfoundations.ca/cfc_locations/fondation-communautaire-du-saint-maurice/\n",
      "https://communityfoundations.ca/cfc_locations/fondation-communautaire-gaspesie-les-eles/\n",
      "https://communityfoundations.ca/cfc_locations/fondation-laurentides/\n",
      "https://communityfoundations.ca/cfc_locations/fondation-communautaire-du-grand-quebec/\n",
      "https://communityfoundations.ca/cfc_locations/la-fondation-du-grand-montrzal-the-foundation-of-greater-montreal/\n",
      "https://communityfoundations.ca/cfc_locations/battlefords-and-district-community-foundation-inc/\n",
      "https://communityfoundations.ca/cfc_locations/family-friends-community-foundation-inc/\n",
      "https://communityfoundations.ca/cfc_locations/prince-albert-and-area-community-foundation-inc/\n",
      "https://communityfoundations.ca/cfc_locations/saskatoon-community-foundation/\n",
      "https://communityfoundations.ca/cfc_locations/south-saskatchewan-community-foundation-inc/\n",
      "https://communityfoundations.ca/cfc_locations/the-yukon-foundation/\n",
      "https://communityfoundations.ca\n",
      "/feed\n",
      "https://twitter.com/CommFdnsCanada\n",
      "https://www.facebook.com/CommunityFdnsCanadaHome\n",
      "https://flickr.com/communityfoundationsofcanada\n",
      "https://youtube.com/user/cfcteam\n",
      "/find-a-community-foundation/\n",
      "/events\n",
      "https://communityfoundations.ca/contact-us/\n",
      "https://communityfoundations.ca/privacy-policy/\n",
      "https://communityfoundations.ca/sitemap/\n"
     ]
    }
   ],
   "source": [
    "for tag in a_containers:\n",
    "    print(tag.get('href'))"
   ]
  },
  {
   "cell_type": "code",
   "execution_count": 89,
   "metadata": {},
   "outputs": [],
   "source": [
    "aCF_containers = html_soup.find_all(\"a\", href=re.compile(\"cfc_locations\"))\n"
   ]
  },
  {
   "cell_type": "code",
   "execution_count": 90,
   "metadata": {},
   "outputs": [
    {
     "data": {
      "text/plain": [
       "194"
      ]
     },
     "execution_count": 90,
     "metadata": {},
     "output_type": "execute_result"
    }
   ],
   "source": [
    "len(aCF_containers)"
   ]
  },
  {
   "cell_type": "code",
   "execution_count": 228,
   "metadata": {},
   "outputs": [
    {
     "data": {
      "text/plain": [
       "<a href=\"https://communityfoundations.ca/cfc_locations/souris-glenwood-foundation-inc/\">Souris Glenwood Foundation Inc.</a>"
      ]
     },
     "execution_count": 228,
     "metadata": {},
     "output_type": "execute_result"
    }
   ],
   "source": [
    "aCF_containers[98]"
   ]
  },
  {
   "cell_type": "code",
   "execution_count": 87,
   "metadata": {},
   "outputs": [
    {
     "name": "stdout",
     "output_type": "stream",
     "text": [
      "https://communityfoundations.ca/cfc_locations/wood-buffalo-community-foundation/\n",
      "https://communityfoundations.ca/cfc_locations/airdrie-and-district-community-foundation/\n",
      "https://communityfoundations.ca/cfc_locations/the-banff-community-foundation/\n",
      "https://communityfoundations.ca/cfc_locations/battle-river-community-foundation/\n",
      "https://communityfoundations.ca/cfc_locations/community-foundation-of-lethbridge-and-southwestern-alberta/\n",
      "https://communityfoundations.ca/cfc_locations/community-foundation-of-northwestern-alberta/\n",
      "https://communityfoundations.ca/cfc_locations/community-foundation-of-medicine-hat-and-southeastern-alberta/\n",
      "https://communityfoundations.ca/cfc_locations/drayton-valley-community-foundation/\n",
      "https://communityfoundations.ca/cfc_locations/edmonton-community-foundation/\n",
      "https://communityfoundations.ca/cfc_locations/red-deer-district-community-foundation/\n",
      "https://communityfoundations.ca/cfc_locations/st-albert-community-foundation/\n",
      "https://communityfoundations.ca/cfc_locations/the-calgary-foundation/\n",
      "https://communityfoundations.ca/cfc_locations/abbotsford-community-foundation/\n",
      "https://communityfoundations.ca/cfc_locations/alberni-valley-community-foundation/\n",
      "https://communityfoundations.ca/cfc_locations/kamloops-foundation/\n",
      "https://communityfoundations.ca/cfc_locations/bowen-island-community-foundation/\n",
      "https://communityfoundations.ca/cfc_locations/bulkley-valley-community-foundation/\n",
      "https://communityfoundations.ca/cfc_locations/campbell-river-community-foundation/\n",
      "https://communityfoundations.ca/cfc_locations/central-okanagan-foundation/\n",
      "https://communityfoundations.ca/cfc_locations/clayoquot-biosphere-trust/\n",
      "https://communityfoundations.ca/cfc_locations/columbia-valley-community-foundation/\n",
      "https://communityfoundations.ca/cfc_locations/community-foundation-of-castlegar-district/\n",
      "https://communityfoundations.ca/cfc_locations/cranbrook-district-community-foundation/\n",
      "https://communityfoundations.ca/cfc_locations/community-foundation-of-the-north-okanagan/\n",
      "https://communityfoundations.ca/cfc_locations/community-foundation-of-the-south-okanagan/\n",
      "https://communityfoundations.ca/cfc_locations/community-foundation-of-whistler/\n",
      "https://communityfoundations.ca/cfc_locations/comox-valley-community-foundation/\n",
      "https://communityfoundations.ca/cfc_locations/coquitlam-foundation/\n",
      "https://communityfoundations.ca/cfc_locations/creston-kootenay-foundation/\n",
      "https://communityfoundations.ca/cfc_locations/delta-foundation/\n",
      "https://communityfoundations.ca/cfc_locations/golden-district-community-foundation/\n",
      "https://communityfoundations.ca/cfc_locations/haida-gwaii-community-foundation/\n",
      "https://communityfoundations.ca/cfc_locations/kimberley-and-district-community-foundation/\n",
      "https://communityfoundations.ca/cfc_locations/kitimat-community-foundation/\n",
      "https://communityfoundations.ca/cfc_locations/leroi-community-foundation/\n",
      "https://communityfoundations.ca/cfc_locations/maple-ridge-community-foundation/\n",
      "https://communityfoundations.ca/cfc_locations/mission-community-foundation/\n",
      "https://communityfoundations.ca/cfc_locations/nakusp-and-area-community-foundation/\n",
      "https://communityfoundations.ca/cfc_locations/the-nanaimo-community-foundation/\n",
      "https://communityfoundations.ca/cfc_locations/north-shore-community-foundation/\n",
      "https://communityfoundations.ca/cfc_locations/north-thompson-communities-foundation/\n",
      "https://communityfoundations.ca/cfc_locations/northeast-regional-community-foundation/\n",
      "https://communityfoundations.ca/cfc_locations/osprey-community-foundation/\n",
      "https://communityfoundations.ca/cfc_locations/parksville-qualicum-foundation/\n",
      "https://communityfoundations.ca/cfc_locations/phoenix-foundation-of-the-boundary-communities/\n",
      "https://communityfoundations.ca/cfc_locations/pitt-meadows-community-foundation/\n",
      "https://communityfoundations.ca/cfc_locations/port-coquitlam-community-foundation/\n",
      "https://communityfoundations.ca/cfc_locations/port-moody-foundation/\n",
      "https://communityfoundations.ca/cfc_locations/powell-river-community-foundation/\n",
      "https://communityfoundations.ca/cfc_locations/prince-rupert-regional-community-foundation/\n",
      "https://communityfoundations.ca/cfc_locations/quesnel-community-foundation/\n",
      "https://communityfoundations.ca/cfc_locations/revelstoke-community-foundation/\n",
      "https://communityfoundations.ca/cfc_locations/richmond-community-foundation/\n",
      "https://communityfoundations.ca/cfc_locations/salt-spring-island-foundation/\n",
      "https://communityfoundations.ca/cfc_locations/shuswap-community-foundation/\n",
      "https://communityfoundations.ca/cfc_locations/squamish-community-foundation/\n",
      "https://communityfoundations.ca/cfc_locations/sunshine-coast-community-foundation/\n",
      "https://communityfoundations.ca/cfc_locations/surrey-cares/\n",
      "https://communityfoundations.ca/cfc_locations/the-prince-george-community-foundation/\n",
      "https://communityfoundations.ca/cfc_locations/thetis-island-community-fund/\n",
      "https://communityfoundations.ca/cfc_locations/vancouver-foundation/\n",
      "https://communityfoundations.ca/cfc_locations/victoria-foundation/\n",
      "https://communityfoundations.ca/cfc_locations/west-vancouver-community-foundation/\n",
      "https://communityfoundations.ca/cfc_locations/beautiful-plains-community-foundation-inc/\n",
      "https://communityfoundations.ca/cfc_locations/big-grass-community-foundation-inc/\n",
      "https://communityfoundations.ca/cfc_locations/birtle-and-district-foundation/\n",
      "https://communityfoundations.ca/cfc_locations/brandon-area-community-foundation-inc/\n",
      "https://communityfoundations.ca/cfc_locations/brokenhead-river-community-foundation-inc/\n",
      "https://communityfoundations.ca/cfc_locations/carberry-and-area-community-foundation-inc/\n",
      "https://communityfoundations.ca/cfc_locations/coldwell-community-foundation/\n",
      "https://communityfoundations.ca/cfc_locations/community-foundation-of-portage-and-district-inc/\n",
      "https://communityfoundations.ca/cfc_locations/community-foundation-of-swan-valley-inc/\n",
      "https://communityfoundations.ca/cfc_locations/cypress-river-area-foundation-inc/\n",
      "https://communityfoundations.ca/cfc_locations/dauphin-district-community-foundation/\n",
      "https://communityfoundations.ca/cfc_locations/elkhorn-area-foundation/\n",
      "https://communityfoundations.ca/cfc_locations/francofonds-la-fondation-communautaire-du-manitoba-francais/\n",
      "https://communityfoundations.ca/cfc_locations/grandview-district-community-foundation/\n",
      "https://communityfoundations.ca/cfc_locations/hamiota-community-foundation/\n",
      "https://communityfoundations.ca/cfc_locations/headingley-community-foundation/\n",
      "https://communityfoundations.ca/cfc_locations/holland-area-community-foundation-inc/\n",
      "https://communityfoundations.ca/cfc_locations/icelandic-river-community-foundation/\n",
      "https://communityfoundations.ca/cfc_locations/lac-du-bonnet-and-district-foundation/\n",
      "https://communityfoundations.ca/cfc_locations/living-legacy-community-foundation/\n",
      "https://communityfoundations.ca/cfc_locations/miami-and-area-foundation-inc/\n",
      "https://communityfoundations.ca/cfc_locations/minnedosa-district-foundation-inc/\n",
      "https://communityfoundations.ca/cfc_locations/morden-area-foundation-inc/\n",
      "https://communityfoundations.ca/cfc_locations/north-norfolk-macgregor-foundation-inc/\n",
      "https://communityfoundations.ca/cfc_locations/northern-neighbours-foundation-inc/\n",
      "https://communityfoundations.ca/cfc_locations/oak-lake-area-foundation-inc/\n",
      "https://communityfoundations.ca/cfc_locations/pembina-manitou-area-foundation-inc/\n",
      "https://communityfoundations.ca/cfc_locations/pilot-mound-district-foundation-inc/\n",
      "https://communityfoundations.ca/cfc_locations/pinawa-community-foundation-inc/\n",
      "https://communityfoundations.ca/cfc_locations/plum-coulee-community-foundation/\n",
      "https://communityfoundations.ca/cfc_locations/reston-and-area-foundation-inc/\n",
      "https://communityfoundations.ca/cfc_locations/rivers-and-area-community-foundation-inc/\n",
      "https://communityfoundations.ca/cfc_locations/roblin-district-community-foundation/\n",
      "https://communityfoundations.ca/cfc_locations/selkirk-district-community-foundation/\n",
      "https://communityfoundations.ca/cfc_locations/shoal-lake-community-foundation/\n",
      "https://communityfoundations.ca/cfc_locations/souris-glenwood-foundation-inc/\n",
      "https://communityfoundations.ca/cfc_locations/sturgeon-community-foundation-inc/\n",
      "https://communityfoundations.ca/cfc_locations/the-altona-community-foundation-inc/\n",
      "https://communityfoundations.ca/cfc_locations/the-boissevain-and-morton-foundation-incorporated/\n",
      "https://communityfoundations.ca/cfc_locations/the-carman-area-foundation-inc/\n",
      "https://communityfoundations.ca/cfc_locations/the-cartwright-and-area-foundation-inc/\n",
      "https://communityfoundations.ca/cfc_locations/the-glenboro-area-foundation-inc/\n",
      "https://communityfoundations.ca/cfc_locations/the-interlake-community-foundation-inc/\n",
      "https://communityfoundations.ca/cfc_locations/the-killarney-foundation-inc/\n",
      "https://communityfoundations.ca/cfc_locations/the-morris-area-foundation-inc/\n",
      "https://communityfoundations.ca/cfc_locations/the-southwest-manitoba-regional-foundation/\n",
      "https://communityfoundations.ca/cfc_locations/the-steinbach-community-foundation-inc/\n",
      "https://communityfoundations.ca/cfc_locations/the-winnipeg-foundation/\n",
      "https://communityfoundations.ca/cfc_locations/thompson-community-foundation/\n",
      "https://communityfoundations.ca/cfc_locations/tiger-hills-community-foundation-inc/\n",
      "https://communityfoundations.ca/cfc_locations/virden-area-foundation-inc/\n",
      "https://communityfoundations.ca/cfc_locations/wawanesa-community-foundation-inc/\n",
      "https://communityfoundations.ca/cfc_locations/westshore-community-foundation-inc/\n",
      "https://communityfoundations.ca/cfc_locations/winkler-community-foundation-inc/\n",
      "https://communityfoundations.ca/cfc_locations/carleton-north-community-foundation/\n",
      "https://communityfoundations.ca/cfc_locations/fondation-communautaire-de-la-peninsule-acadienne-inc/\n",
      "https://communityfoundations.ca/cfc_locations/fredericton-community-foundation-inc/\n",
      "https://communityfoundations.ca/cfc_locations/fundy-community-foundation/\n",
      "https://communityfoundations.ca/cfc_locations/sussex-area-community-foundation-inc/\n",
      "https://communityfoundations.ca/cfc_locations/the-greater-saint-john-community-foundation/\n",
      "https://communityfoundations.ca/cfc_locations/community-foundation-of-newfoundland-and-labrador/\n",
      "https://communityfoundations.ca/cfc_locations/yellowknife-community-foundation/\n",
      "https://communityfoundations.ca/cfc_locations/community-foundation-of-nova-scotia/\n",
      "https://communityfoundations.ca/cfc_locations/rural-communities-foundation-of-nova-scotia/\n",
      "https://communityfoundations.ca/cfc_locations/aylmer-area-community-foundation/\n",
      "https://communityfoundations.ca/cfc_locations/barrie-community-foundation/\n",
      "https://communityfoundations.ca/cfc_locations/bradford-west-gwillimbury-and-district-community-foundation-bwgdcf/\n",
      "https://communityfoundations.ca/cfc_locations/brampton-and-area-community-foundation/\n",
      "https://communityfoundations.ca/cfc_locations/brant-community-foundation/\n",
      "https://communityfoundations.ca/cfc_locations/brockville-and-area-community-foundation/\n",
      "https://communityfoundations.ca/cfc_locations/burlington-community-foundation/\n",
      "https://communityfoundations.ca/cfc_locations/caledonia-community-foundation/\n",
      "https://communityfoundations.ca/cfc_locations/cambridge-north-dumfries-community-foundation/\n",
      "https://communityfoundations.ca/cfc_locations/campbellfordseymour-community-foundation/\n",
      "https://communityfoundations.ca/cfc_locations/centre-wellington-community-foundation/\n",
      "https://communityfoundations.ca/cfc_locations/community-foundation-for-kingston-area/\n",
      "https://communityfoundations.ca/cfc_locations/napanee-district-community-foundation/\n",
      "https://communityfoundations.ca/cfc_locations/community-foundation-grey-bruce/\n",
      "https://communityfoundations.ca/cfc_locations/community-foundation-of-greater-peterborough/\n",
      "https://communityfoundations.ca/cfc_locations/community-foundation-of-halton-north/\n",
      "https://communityfoundations.ca/cfc_locations/community-foundation-of-mississauga/\n",
      "https://communityfoundations.ca/cfc_locations/durham-community-foundation/\n",
      "https://communityfoundations.ca/cfc_locations/elgin-st-thomas-community-foundation/\n",
      "https://communityfoundations.ca/cfc_locations/fondation-communautaire-du-temiskaming/\n",
      "https://communityfoundations.ca/cfc_locations/forest-community-foundation/\n",
      "https://communityfoundations.ca/cfc_locations/grand-bend-community-foundation/\n",
      "https://communityfoundations.ca/cfc_locations/hamilton-community-foundation/\n",
      "https://communityfoundations.ca/cfc_locations/huronia-community-foundation-la-fondation-communautaire-de-la-huronie/\n",
      "https://communityfoundations.ca/cfc_locations/kenora-and-lake-of-the-woods-regional-community-foundation/\n",
      "https://communityfoundations.ca/cfc_locations/london-community-foundation/\n",
      "https://communityfoundations.ca/cfc_locations/muskoka-community-foundation/\n",
      "https://communityfoundations.ca/cfc_locations/niagara-community-foundation/\n",
      "https://communityfoundations.ca/cfc_locations/north-bay-and-area-community-foundation/\n",
      "https://communityfoundations.ca/cfc_locations/oakville-community-foundation/\n",
      "https://communityfoundations.ca/cfc_locations/community-foundation-of-ottawa-fondation-communautaire-dottawa/\n",
      "https://communityfoundations.ca/cfc_locations/oxford-community-foundation/\n",
      "https://communityfoundations.ca/cfc_locations/pembroke-petawawa-district-community-foundation/\n",
      "https://communityfoundations.ca/cfc_locations/sarnia-community-foundation/\n",
      "https://communityfoundations.ca/cfc_locations/stratford-and-perth-county-community-foundation/\n",
      "https://communityfoundations.ca/cfc_locations/sudbury-community-foundationfondation-communautaire-de-sudbury/\n",
      "https://communityfoundations.ca/cfc_locations/the-chatham-kent-community-foundation/\n",
      "https://communityfoundations.ca/cfc_locations/the-community-foundation-of-orillia-and-area/\n",
      "https://communityfoundations.ca/cfc_locations/prince-edward-county-community-foundation/\n",
      "https://communityfoundations.ca/cfc_locations/the-deep-river-and-district-community-foundation/\n",
      "https://communityfoundations.ca/cfc_locations/the-dufferin-community-foundation/\n",
      "https://communityfoundations.ca/cfc_locations/the-guelph-community-foundation/\n",
      "https://communityfoundations.ca/cfc_locations/the-kitchener-and-waterloo-community-foundation/\n",
      "https://communityfoundations.ca/cfc_locations/the-norfolk-community-foundation/\n",
      "https://communityfoundations.ca/cfc_locations/the-perth-and-district-community-foundation/\n",
      "https://communityfoundations.ca/cfc_locations/the-temagami-community-foundation/\n",
      "https://communityfoundations.ca/cfc_locations/the-temiskaming-foundation/\n",
      "https://communityfoundations.ca/cfc_locations/thunder-bay-community-foundation/\n",
      "https://communityfoundations.ca/cfc_locations/toronto-community-foundation/\n",
      "https://communityfoundations.ca/cfc_locations/windsoressex-community-foundation/\n",
      "https://communityfoundations.ca/cfc_locations/the-community-foundation-of-prince-edward-island/\n",
      "https://communityfoundations.ca/cfc_locations/la-fondation-communautaire-de-lestrie/\n",
      "https://communityfoundations.ca/cfc_locations/eenou-eeyou-community-foundation/\n",
      "https://communityfoundations.ca/cfc_locations/fondation-communautaire-de-labitibi-temiscamingue/\n",
      "https://communityfoundations.ca/cfc_locations/fondation-communautaire-de-lanaudi%c2%8fre/\n",
      "https://communityfoundations.ca/cfc_locations/fondation-communautaire-du-saguenay-lac-saint-jean/\n",
      "https://communityfoundations.ca/cfc_locations/fondation-communautaire-du-saint-maurice/\n",
      "https://communityfoundations.ca/cfc_locations/fondation-communautaire-gaspesie-les-eles/\n",
      "https://communityfoundations.ca/cfc_locations/fondation-laurentides/\n",
      "https://communityfoundations.ca/cfc_locations/fondation-communautaire-du-grand-quebec/\n",
      "https://communityfoundations.ca/cfc_locations/la-fondation-du-grand-montrzal-the-foundation-of-greater-montreal/\n",
      "https://communityfoundations.ca/cfc_locations/battlefords-and-district-community-foundation-inc/\n",
      "https://communityfoundations.ca/cfc_locations/family-friends-community-foundation-inc/\n",
      "https://communityfoundations.ca/cfc_locations/prince-albert-and-area-community-foundation-inc/\n",
      "https://communityfoundations.ca/cfc_locations/saskatoon-community-foundation/\n",
      "https://communityfoundations.ca/cfc_locations/south-saskatchewan-community-foundation-inc/\n",
      "https://communityfoundations.ca/cfc_locations/the-yukon-foundation/\n"
     ]
    }
   ],
   "source": [
    "for tag in aCF_containers:\n",
    "    print(tag.get('href'))"
   ]
  },
  {
   "cell_type": "code",
   "execution_count": 190,
   "metadata": {},
   "outputs": [
    {
     "name": "stdout",
     "output_type": "stream",
     "text": [
      "<class 'bs4.element.ResultSet'>\n",
      "16\n"
     ]
    }
   ],
   "source": [
    "info_containers_byProv = html_soup.find_all('h2')\n",
    "print(type(info_containers_byProv))\n",
    "print(len(info_containers_byProv))"
   ]
  },
  {
   "cell_type": "code",
   "execution_count": 192,
   "metadata": {},
   "outputs": [
    {
     "name": "stdout",
     "output_type": "stream",
     "text": [
      "Manitoba\n"
     ]
    }
   ],
   "source": [
    "for child in info_containers_byProv[4].descendants:\n",
    "    print(child)"
   ]
  },
  {
   "cell_type": "code",
   "execution_count": 183,
   "metadata": {},
   "outputs": [
    {
     "data": {
      "text/plain": [
       "[<h2 class=\"hidden\">Social Profiles</h2>,\n",
       " <h2>AB</h2>,\n",
       " <h2>Alberta</h2>,\n",
       " <h2>British Columbia</h2>,\n",
       " <h2>Manitoba</h2>,\n",
       " <h2>New Brunswick</h2>,\n",
       " <h2>Newfoundland and Labrador</h2>,\n",
       " <h2>Northwest Territories</h2>,\n",
       " <h2>Nova Scotia</h2>,\n",
       " <h2>Ontario</h2>,\n",
       " <h2>Prince Edward Island</h2>,\n",
       " <h2>Québec</h2>,\n",
       " <h2>Saskatchewan</h2>,\n",
       " <h2>Yukon</h2>,\n",
       " <h2 class=\"hidden\">Mailing List</h2>,\n",
       " <h2 class=\"hidden\">Social Profiles</h2>]"
      ]
     },
     "execution_count": 183,
     "metadata": {},
     "output_type": "execute_result"
    }
   ],
   "source": [
    "info_containers_byProv"
   ]
  },
  {
   "cell_type": "code",
   "execution_count": 184,
   "metadata": {},
   "outputs": [
    {
     "data": {
      "text/plain": [
       "<h2>Alberta</h2>"
      ]
     },
     "execution_count": 184,
     "metadata": {},
     "output_type": "execute_result"
    }
   ],
   "source": [
    "info_containers_byProv[2]"
   ]
  },
  {
   "cell_type": "code",
   "execution_count": 211,
   "metadata": {},
   "outputs": [
    {
     "name": "stdout",
     "output_type": "stream",
     "text": [
      "<class 'bs4.element.ResultSet'>\n",
      "207\n"
     ]
    }
   ],
   "source": [
    "info_containers_all = html_soup.find_all([\"h2\", \"h3\"], class_=lambda x: x != 'hidden')\n",
    "print(type(info_containers_all))\n",
    "print(len(info_containers_all))"
   ]
  },
  {
   "cell_type": "code",
   "execution_count": 233,
   "metadata": {},
   "outputs": [
    {
     "data": {
      "text/plain": [
       "[<h2>AB</h2>,\n",
       " <h3><a href=\"https://communityfoundations.ca/cfc_locations/wood-buffalo-community-foundation/\">Wood Buffalo Community Foundation</a></h3>,\n",
       " <h2>Alberta</h2>,\n",
       " <h3><a href=\"https://communityfoundations.ca/cfc_locations/airdrie-and-district-community-foundation/\">Airdrie and District Community Foundation</a></h3>,\n",
       " <h3><a href=\"https://communityfoundations.ca/cfc_locations/the-banff-community-foundation/\">Banff Canmore Community Foundation</a></h3>,\n",
       " <h3><a href=\"https://communityfoundations.ca/cfc_locations/battle-river-community-foundation/\">Battle River Community Foundation</a></h3>,\n",
       " <h3><a href=\"https://communityfoundations.ca/cfc_locations/community-foundation-of-lethbridge-and-southwestern-alberta/\">Community Foundation of Lethbridge And Southwestern Alberta</a></h3>,\n",
       " <h3><a href=\"https://communityfoundations.ca/cfc_locations/community-foundation-of-northwestern-alberta/\">Community Foundation Of Northwestern Alberta</a></h3>,\n",
       " <h3><a href=\"https://communityfoundations.ca/cfc_locations/community-foundation-of-medicine-hat-and-southeastern-alberta/\">Community Foundation of Southeastern Alberta</a></h3>,\n",
       " <h3><a href=\"https://communityfoundations.ca/cfc_locations/drayton-valley-community-foundation/\">Drayton Valley Community Foundation</a></h3>,\n",
       " <h3><a href=\"https://communityfoundations.ca/cfc_locations/edmonton-community-foundation/\">Edmonton Community Foundation</a></h3>,\n",
       " <h3><a href=\"https://communityfoundations.ca/cfc_locations/red-deer-district-community-foundation/\">Red Deer &amp; District Community Foundation</a></h3>,\n",
       " <h3><a href=\"https://communityfoundations.ca/cfc_locations/st-albert-community-foundation/\">St. Albert Community Foundation</a></h3>,\n",
       " <h3><a href=\"https://communityfoundations.ca/cfc_locations/the-calgary-foundation/\">The Calgary Foundation</a></h3>,\n",
       " <h2>British Columbia</h2>,\n",
       " <h3><a href=\"https://communityfoundations.ca/cfc_locations/abbotsford-community-foundation/\">Abbotsford Community Foundation</a></h3>,\n",
       " <h3><a href=\"https://communityfoundations.ca/cfc_locations/alberni-valley-community-foundation/\">Alberni Valley Community Foundation</a></h3>,\n",
       " <h3><a href=\"https://communityfoundations.ca/cfc_locations/kamloops-foundation/\">BC Interior Community Foundation</a></h3>,\n",
       " <h3><a href=\"https://communityfoundations.ca/cfc_locations/bowen-island-community-foundation/\">Bowen Island Community Foundation</a></h3>,\n",
       " <h3><a href=\"https://communityfoundations.ca/cfc_locations/bulkley-valley-community-foundation/\">Bulkley Valley Community Foundation</a></h3>,\n",
       " <h3><a href=\"https://communityfoundations.ca/cfc_locations/campbell-river-community-foundation/\">Campbell River Community Foundation</a></h3>,\n",
       " <h3><a href=\"https://communityfoundations.ca/cfc_locations/central-okanagan-foundation/\">Central Okanagan Foundation</a></h3>,\n",
       " <h3><a href=\"https://communityfoundations.ca/cfc_locations/clayoquot-biosphere-trust/\">Clayoquot Biosphere Trust</a></h3>,\n",
       " <h3><a href=\"https://communityfoundations.ca/cfc_locations/columbia-valley-community-foundation/\">Columbia Valley Community Foundation</a></h3>,\n",
       " <h3><a href=\"https://communityfoundations.ca/cfc_locations/community-foundation-of-castlegar-district/\">Community Foundation of Castlegar &amp; District</a></h3>,\n",
       " <h3><a href=\"https://communityfoundations.ca/cfc_locations/cranbrook-district-community-foundation/\">Community Foundation of the Kootenay Rockies</a></h3>,\n",
       " <h3><a href=\"https://communityfoundations.ca/cfc_locations/community-foundation-of-the-north-okanagan/\">Community Foundation of the North Okanagan</a></h3>,\n",
       " <h3><a href=\"https://communityfoundations.ca/cfc_locations/community-foundation-of-the-south-okanagan/\">Community Foundation of the South Okanagan</a></h3>,\n",
       " <h3><a href=\"https://communityfoundations.ca/cfc_locations/community-foundation-of-whistler/\">Community Foundation of Whistler</a></h3>,\n",
       " <h3><a href=\"https://communityfoundations.ca/cfc_locations/comox-valley-community-foundation/\">Comox Valley Community Foundation</a></h3>,\n",
       " <h3><a href=\"https://communityfoundations.ca/cfc_locations/coquitlam-foundation/\">Coquitlam Foundation</a></h3>,\n",
       " <h3><a href=\"https://communityfoundations.ca/cfc_locations/creston-kootenay-foundation/\">Creston – Kootenay Foundation</a></h3>,\n",
       " <h3><a href=\"https://communityfoundations.ca/cfc_locations/delta-foundation/\">Delta Foundation</a></h3>,\n",
       " <h3><a href=\"https://communityfoundations.ca/cfc_locations/golden-district-community-foundation/\">Golden &amp; District Community Foundation</a></h3>,\n",
       " <h3><a href=\"https://communityfoundations.ca/cfc_locations/haida-gwaii-community-foundation/\">Gwaii Trust</a></h3>,\n",
       " <h3><a href=\"https://communityfoundations.ca/cfc_locations/kimberley-and-district-community-foundation/\">Kimberley and District Community Foundation</a></h3>,\n",
       " <h3><a href=\"https://communityfoundations.ca/cfc_locations/kitimat-community-foundation/\">Kitimat Community Foundation</a></h3>,\n",
       " <h3><a href=\"https://communityfoundations.ca/cfc_locations/leroi-community-foundation/\">LeRoi Community Foundation</a></h3>,\n",
       " <h3><a href=\"https://communityfoundations.ca/cfc_locations/maple-ridge-community-foundation/\">Maple Ridge Community Foundation</a></h3>,\n",
       " <h3><a href=\"https://communityfoundations.ca/cfc_locations/mission-community-foundation/\">Mission Community Foundation</a></h3>,\n",
       " <h3><a href=\"https://communityfoundations.ca/cfc_locations/nakusp-and-area-community-foundation/\">Nakusp and Area Community Foundation</a></h3>,\n",
       " <h3><a href=\"https://communityfoundations.ca/cfc_locations/the-nanaimo-community-foundation/\">Nanaimo Foundation</a></h3>,\n",
       " <h3><a href=\"https://communityfoundations.ca/cfc_locations/north-shore-community-foundation/\">North Shore Community Foundation</a></h3>,\n",
       " <h3><a href=\"https://communityfoundations.ca/cfc_locations/north-thompson-communities-foundation/\">North Thompson Communities Foundation</a></h3>,\n",
       " <h3><a href=\"https://communityfoundations.ca/cfc_locations/northeast-regional-community-foundation/\">Northeast Regional Community Foundation</a></h3>,\n",
       " <h3><a href=\"https://communityfoundations.ca/cfc_locations/osprey-community-foundation/\">Osprey Community Foundation</a></h3>,\n",
       " <h3><a href=\"https://communityfoundations.ca/cfc_locations/parksville-qualicum-foundation/\">Parksville-Qualicum Foundation</a></h3>,\n",
       " <h3><a href=\"https://communityfoundations.ca/cfc_locations/phoenix-foundation-of-the-boundary-communities/\">Phoenix Foundation of the Boundary Communities</a></h3>,\n",
       " <h3><a href=\"https://communityfoundations.ca/cfc_locations/pitt-meadows-community-foundation/\">Pitt Meadows Community Foundation</a></h3>,\n",
       " <h3><a href=\"https://communityfoundations.ca/cfc_locations/port-coquitlam-community-foundation/\">Port Coquitlam Community Foundation</a></h3>,\n",
       " <h3><a href=\"https://communityfoundations.ca/cfc_locations/port-moody-foundation/\">Port Moody Foundation</a></h3>,\n",
       " <h3><a href=\"https://communityfoundations.ca/cfc_locations/powell-river-community-foundation/\">Powell River Community Foundation</a></h3>,\n",
       " <h3><a href=\"https://communityfoundations.ca/cfc_locations/prince-rupert-regional-community-foundation/\">Prince Rupert Regional Community Foundation</a></h3>,\n",
       " <h3><a href=\"https://communityfoundations.ca/cfc_locations/quesnel-community-foundation/\">Quesnel Community Foundation</a></h3>,\n",
       " <h3><a href=\"https://communityfoundations.ca/cfc_locations/revelstoke-community-foundation/\">Revelstoke Community Foundation</a></h3>,\n",
       " <h3><a href=\"https://communityfoundations.ca/cfc_locations/richmond-community-foundation/\">Richmond Community Foundation</a></h3>,\n",
       " <h3><a href=\"https://communityfoundations.ca/cfc_locations/salt-spring-island-foundation/\">Salt Spring Island Foundation</a></h3>,\n",
       " <h3><a href=\"https://communityfoundations.ca/cfc_locations/shuswap-community-foundation/\">Shuswap Community Foundation</a></h3>,\n",
       " <h3><a href=\"https://communityfoundations.ca/cfc_locations/squamish-community-foundation/\">Squamish Community Foundation</a></h3>,\n",
       " <h3><a href=\"https://communityfoundations.ca/cfc_locations/sunshine-coast-community-foundation/\">Sunshine Coast Community Foundation</a></h3>,\n",
       " <h3><a href=\"https://communityfoundations.ca/cfc_locations/surrey-cares/\">SurreyCares</a></h3>,\n",
       " <h3><a href=\"https://communityfoundations.ca/cfc_locations/the-prince-george-community-foundation/\">The Prince George Community Foundation</a></h3>,\n",
       " <h3><a href=\"https://communityfoundations.ca/cfc_locations/thetis-island-community-fund/\">Thetis Island Community Fund</a></h3>,\n",
       " <h3><a href=\"https://communityfoundations.ca/cfc_locations/vancouver-foundation/\">Vancouver Foundation</a></h3>,\n",
       " <h3><a href=\"https://communityfoundations.ca/cfc_locations/victoria-foundation/\">Victoria Foundation</a></h3>,\n",
       " <h3><a href=\"https://communityfoundations.ca/cfc_locations/west-vancouver-community-foundation/\">West Vancouver Community Foundation</a></h3>,\n",
       " <h2>Manitoba</h2>,\n",
       " <h3><a href=\"https://communityfoundations.ca/cfc_locations/beautiful-plains-community-foundation-inc/\">Beautiful Plains Community Foundation Inc.</a></h3>,\n",
       " <h3><a href=\"https://communityfoundations.ca/cfc_locations/big-grass-community-foundation-inc/\">Big Grass Community Foundation Inc.</a></h3>,\n",
       " <h3><a href=\"https://communityfoundations.ca/cfc_locations/birtle-and-district-foundation/\">Birtle and District Foundation</a></h3>,\n",
       " <h3><a href=\"https://communityfoundations.ca/cfc_locations/brandon-area-community-foundation-inc/\">Brandon Area Community Foundation Inc.</a></h3>,\n",
       " <h3><a href=\"https://communityfoundations.ca/cfc_locations/brokenhead-river-community-foundation-inc/\">Brokenhead River Community Foundation Inc.</a></h3>,\n",
       " <h3><a href=\"https://communityfoundations.ca/cfc_locations/carberry-and-area-community-foundation-inc/\">Carberry and Area Community Foundation Inc.</a></h3>,\n",
       " <h3><a href=\"https://communityfoundations.ca/cfc_locations/coldwell-community-foundation/\">Coldwell Community Foundation</a></h3>,\n",
       " <h3><a href=\"https://communityfoundations.ca/cfc_locations/community-foundation-of-portage-and-district-inc/\">Community Foundation of Portage and District Inc.</a></h3>,\n",
       " <h3><a href=\"https://communityfoundations.ca/cfc_locations/community-foundation-of-swan-valley-inc/\">Community Foundation of Swan Valley Inc.</a></h3>,\n",
       " <h3><a href=\"https://communityfoundations.ca/cfc_locations/cypress-river-area-foundation-inc/\">Cypress River &amp; Area Foundation Inc.</a></h3>,\n",
       " <h3><a href=\"https://communityfoundations.ca/cfc_locations/dauphin-district-community-foundation/\">Dauphin &amp; District Community Foundation</a></h3>,\n",
       " <h3><a href=\"https://communityfoundations.ca/cfc_locations/elkhorn-area-foundation/\">Elkhorn &amp; Area Foundation</a></h3>,\n",
       " <h3><a href=\"https://communityfoundations.ca/cfc_locations/francofonds-la-fondation-communautaire-du-manitoba-francais/\">Francofonds – La Fondation Communautaire du Manitoba Francais</a></h3>,\n",
       " <h3><a href=\"https://communityfoundations.ca/cfc_locations/grandview-district-community-foundation/\">Grandview &amp; District Community Foundation</a></h3>,\n",
       " <h3><a href=\"https://communityfoundations.ca/cfc_locations/hamiota-community-foundation/\">Hamiota Community Foundation</a></h3>,\n",
       " <h3><a href=\"https://communityfoundations.ca/cfc_locations/headingley-community-foundation/\">Headingley Community Foundation</a></h3>,\n",
       " <h3><a href=\"https://communityfoundations.ca/cfc_locations/holland-area-community-foundation-inc/\">Holland &amp; Area Community Foundation Inc.</a></h3>,\n",
       " <h3><a href=\"https://communityfoundations.ca/cfc_locations/icelandic-river-community-foundation/\">Icelandic River Community Foundation</a></h3>,\n",
       " <h3><a href=\"https://communityfoundations.ca/cfc_locations/lac-du-bonnet-and-district-foundation/\">Lac du Bonnet and District Foundation</a></h3>,\n",
       " <h3><a href=\"https://communityfoundations.ca/cfc_locations/living-legacy-community-foundation/\">Living Legacy Community Foundation</a></h3>,\n",
       " <h3><a href=\"https://communityfoundations.ca/cfc_locations/miami-and-area-foundation-inc/\">Miami and Area Foundation Inc.</a></h3>,\n",
       " <h3><a href=\"https://communityfoundations.ca/cfc_locations/minnedosa-district-foundation-inc/\">Minnedosa &amp; District Foundation Inc.</a></h3>,\n",
       " <h3><a href=\"https://communityfoundations.ca/cfc_locations/morden-area-foundation-inc/\">Morden Area Foundation Inc.</a></h3>,\n",
       " <h3><a href=\"https://communityfoundations.ca/cfc_locations/north-norfolk-macgregor-foundation-inc/\">North Norfolk – MacGregor Foundation Inc.</a></h3>,\n",
       " <h3><a href=\"https://communityfoundations.ca/cfc_locations/northern-neighbours-foundation-inc/\">Northern Neighbours Foundation, Inc.</a></h3>,\n",
       " <h3><a href=\"https://communityfoundations.ca/cfc_locations/oak-lake-area-foundation-inc/\">Oak Lake &amp; Area Foundation Inc.</a></h3>,\n",
       " <h3><a href=\"https://communityfoundations.ca/cfc_locations/pembina-manitou-area-foundation-inc/\">Pembina – Manitou Area Foundation Inc.</a></h3>,\n",
       " <h3><a href=\"https://communityfoundations.ca/cfc_locations/pilot-mound-district-foundation-inc/\">Pilot Mound &amp; District Foundation Inc.</a></h3>,\n",
       " <h3><a href=\"https://communityfoundations.ca/cfc_locations/pinawa-community-foundation-inc/\">Pinawa Community Foundation Inc.</a></h3>,\n",
       " <h3><a href=\"https://communityfoundations.ca/cfc_locations/plum-coulee-community-foundation/\">Plum Coulee Community Foundation</a></h3>,\n",
       " <h3><a href=\"https://communityfoundations.ca/cfc_locations/reston-and-area-foundation-inc/\">Reston and Area Foundation Inc.</a></h3>,\n",
       " <h3><a href=\"https://communityfoundations.ca/cfc_locations/rivers-and-area-community-foundation-inc/\">Rivers and Area Community Foundation Inc.</a></h3>,\n",
       " <h3><a href=\"https://communityfoundations.ca/cfc_locations/roblin-district-community-foundation/\">Roblin District Community Foundation</a></h3>,\n",
       " <h3><a href=\"https://communityfoundations.ca/cfc_locations/selkirk-district-community-foundation/\">Selkirk &amp; District Community Foundation</a></h3>,\n",
       " <h3><a href=\"https://communityfoundations.ca/cfc_locations/shoal-lake-community-foundation/\">Shoal Lake Community Foundation</a></h3>,\n",
       " <h3><a href=\"https://communityfoundations.ca/cfc_locations/souris-glenwood-foundation-inc/\">Souris Glenwood Foundation Inc.</a></h3>,\n",
       " <h3><a href=\"https://communityfoundations.ca/cfc_locations/sturgeon-community-foundation-inc/\">Sturgeon Community Foundation Inc.</a></h3>,\n",
       " <h3><a href=\"https://communityfoundations.ca/cfc_locations/the-altona-community-foundation-inc/\">The Altona Community Foundation Inc.</a></h3>,\n",
       " <h3><a href=\"https://communityfoundations.ca/cfc_locations/the-boissevain-and-morton-foundation-incorporated/\">The Boissevain and Morton Foundation Incorporated</a></h3>,\n",
       " <h3><a href=\"https://communityfoundations.ca/cfc_locations/the-carman-area-foundation-inc/\">The Carman Area Foundation Inc.</a></h3>,\n",
       " <h3><a href=\"https://communityfoundations.ca/cfc_locations/the-cartwright-and-area-foundation-inc/\">The Cartwright and Area Foundation Inc.</a></h3>,\n",
       " <h3><a href=\"https://communityfoundations.ca/cfc_locations/the-glenboro-area-foundation-inc/\">The Glenboro Area Foundation Inc.</a></h3>,\n",
       " <h3><a href=\"https://communityfoundations.ca/cfc_locations/the-interlake-community-foundation-inc/\">The Interlake Community Foundation Inc.</a></h3>,\n",
       " <h3><a href=\"https://communityfoundations.ca/cfc_locations/the-killarney-foundation-inc/\">The Killarney Foundation Inc.</a></h3>,\n",
       " <h3><a href=\"https://communityfoundations.ca/cfc_locations/the-morris-area-foundation-inc/\">The Morris Area Foundation Inc.</a></h3>,\n",
       " <h3><a href=\"https://communityfoundations.ca/cfc_locations/the-southwest-manitoba-regional-foundation/\">The Southwest Manitoba Regional Foundation</a></h3>,\n",
       " <h3><a href=\"https://communityfoundations.ca/cfc_locations/the-steinbach-community-foundation-inc/\">The Steinbach Community Foundation Inc.</a></h3>,\n",
       " <h3><a href=\"https://communityfoundations.ca/cfc_locations/the-winnipeg-foundation/\">The Winnipeg Foundation</a></h3>,\n",
       " <h3><a href=\"https://communityfoundations.ca/cfc_locations/thompson-community-foundation/\">Thompson Community Foundation</a></h3>,\n",
       " <h3><a href=\"https://communityfoundations.ca/cfc_locations/tiger-hills-community-foundation-inc/\">Tiger Hills Community Foundation Inc.</a></h3>,\n",
       " <h3><a href=\"https://communityfoundations.ca/cfc_locations/virden-area-foundation-inc/\">Virden Area Foundation Inc.</a></h3>,\n",
       " <h3><a href=\"https://communityfoundations.ca/cfc_locations/wawanesa-community-foundation-inc/\">Wawanesa Community Foundation Inc.</a></h3>,\n",
       " <h3><a href=\"https://communityfoundations.ca/cfc_locations/westshore-community-foundation-inc/\">Westshore Community Foundation Inc.</a></h3>,\n",
       " <h3><a href=\"https://communityfoundations.ca/cfc_locations/winkler-community-foundation-inc/\">Winkler Community Foundation Inc.</a></h3>,\n",
       " <h2>New Brunswick</h2>,\n",
       " <h3><a href=\"https://communityfoundations.ca/cfc_locations/carleton-north-community-foundation/\">Carleton North Community Foundation</a></h3>,\n",
       " <h3><a href=\"https://communityfoundations.ca/cfc_locations/fondation-communautaire-de-la-peninsule-acadienne-inc/\">Fondation communautaire de la Péninsule acadienne Inc.</a></h3>,\n",
       " <h3><a href=\"https://communityfoundations.ca/cfc_locations/fredericton-community-foundation-inc/\">Fredericton Community Foundation Inc.</a></h3>,\n",
       " <h3><a href=\"https://communityfoundations.ca/cfc_locations/fundy-community-foundation/\">Fundy Community Foundation</a></h3>,\n",
       " <h3><a href=\"https://communityfoundations.ca/cfc_locations/sussex-area-community-foundation-inc/\">Sussex Area Community Foundation Inc.</a></h3>,\n",
       " <h3><a href=\"https://communityfoundations.ca/cfc_locations/the-greater-saint-john-community-foundation/\">The Greater Saint John Community Foundation</a></h3>,\n",
       " <h2>Newfoundland and Labrador</h2>,\n",
       " <h3><a href=\"https://communityfoundations.ca/cfc_locations/community-foundation-of-newfoundland-and-labrador/\">Community Foundation of Newfoundland and Labrador</a></h3>,\n",
       " <h2>Northwest Territories</h2>,\n",
       " <h3><a href=\"https://communityfoundations.ca/cfc_locations/yellowknife-community-foundation/\">Yellowknife Community Foundation</a></h3>,\n",
       " <h2>Nova Scotia</h2>,\n",
       " <h3><a href=\"https://communityfoundations.ca/cfc_locations/community-foundation-of-nova-scotia/\">Community Foundation of Nova Scotia</a></h3>,\n",
       " <h3><a href=\"https://communityfoundations.ca/cfc_locations/rural-communities-foundation-of-nova-scotia/\">Rural Communities Foundation of Nova Scotia</a></h3>,\n",
       " <h2>Ontario</h2>,\n",
       " <h3><a href=\"https://communityfoundations.ca/cfc_locations/aylmer-area-community-foundation/\">Aylmer Area Community Foundation</a></h3>,\n",
       " <h3><a href=\"https://communityfoundations.ca/cfc_locations/barrie-community-foundation/\">Barrie Community Foundation</a></h3>,\n",
       " <h3><a href=\"https://communityfoundations.ca/cfc_locations/bradford-west-gwillimbury-and-district-community-foundation-bwgdcf/\">Bradford West Gwillimbury and District Community Foundation (BWGDCF)</a></h3>,\n",
       " <h3><a href=\"https://communityfoundations.ca/cfc_locations/brampton-and-area-community-foundation/\">Brampton and Area Community Foundation</a></h3>,\n",
       " <h3><a href=\"https://communityfoundations.ca/cfc_locations/brant-community-foundation/\">Brant Community Foundation</a></h3>,\n",
       " <h3><a href=\"https://communityfoundations.ca/cfc_locations/brockville-and-area-community-foundation/\">Brockville and Area Community Foundation</a></h3>,\n",
       " <h3><a href=\"https://communityfoundations.ca/cfc_locations/burlington-community-foundation/\">Burlington Community Foundation</a></h3>,\n",
       " <h3><a href=\"https://communityfoundations.ca/cfc_locations/caledonia-community-foundation/\">Caledonia Community Foundation</a></h3>,\n",
       " <h3><a href=\"https://communityfoundations.ca/cfc_locations/cambridge-north-dumfries-community-foundation/\">Cambridge &amp; North Dumfries Community Foundation</a></h3>,\n",
       " <h3><a href=\"https://communityfoundations.ca/cfc_locations/campbellfordseymour-community-foundation/\">Campbellford/Seymour Community Foundation</a></h3>,\n",
       " <h3><a href=\"https://communityfoundations.ca/cfc_locations/centre-wellington-community-foundation/\">Centre Wellington Community Foundation</a></h3>,\n",
       " <h3><a href=\"https://communityfoundations.ca/cfc_locations/community-foundation-for-kingston-area/\">Community Foundation for Kingston &amp; Area</a></h3>,\n",
       " <h3><a href=\"https://communityfoundations.ca/cfc_locations/napanee-district-community-foundation/\">Community Foundation for Lennox and Addington</a></h3>,\n",
       " <h3><a href=\"https://communityfoundations.ca/cfc_locations/community-foundation-grey-bruce/\">Community Foundation Grey Bruce</a></h3>,\n",
       " <h3><a href=\"https://communityfoundations.ca/cfc_locations/community-foundation-of-greater-peterborough/\">Community Foundation of Greater Peterborough</a></h3>,\n",
       " <h3><a href=\"https://communityfoundations.ca/cfc_locations/community-foundation-of-halton-north/\">Community Foundation of Halton North</a></h3>,\n",
       " <h3><a href=\"https://communityfoundations.ca/cfc_locations/community-foundation-of-mississauga/\">Community Foundation of Mississauga</a></h3>,\n",
       " <h3><a href=\"https://communityfoundations.ca/cfc_locations/durham-community-foundation/\">Durham Community Foundation</a></h3>,\n",
       " <h3><a href=\"https://communityfoundations.ca/cfc_locations/elgin-st-thomas-community-foundation/\">Elgin-St. Thomas Community Foundation</a></h3>,\n",
       " <h3><a href=\"https://communityfoundations.ca/cfc_locations/fondation-communautaire-du-temiskaming/\">Fondation Communautaire du Temiskaming</a></h3>,\n",
       " <h3><a href=\"https://communityfoundations.ca/cfc_locations/forest-community-foundation/\">Forest Community Foundation</a></h3>,\n",
       " <h3><a href=\"https://communityfoundations.ca/cfc_locations/grand-bend-community-foundation/\">Grand Bend Community Foundation</a></h3>,\n",
       " <h3><a href=\"https://communityfoundations.ca/cfc_locations/hamilton-community-foundation/\">Hamilton Community Foundation</a></h3>,\n",
       " <h3><a href=\"https://communityfoundations.ca/cfc_locations/huronia-community-foundation-la-fondation-communautaire-de-la-huronie/\">Huronia Community Foundation</a></h3>,\n",
       " <h3><a href=\"https://communityfoundations.ca/cfc_locations/kenora-and-lake-of-the-woods-regional-community-foundation/\">Kenora and Lake of the Woods Regional Community Foundation</a></h3>,\n",
       " <h3><a href=\"https://communityfoundations.ca/cfc_locations/london-community-foundation/\">London Community Foundation</a></h3>,\n",
       " <h3><a href=\"https://communityfoundations.ca/cfc_locations/muskoka-community-foundation/\">Muskoka Community Foundation</a></h3>,\n",
       " <h3><a href=\"https://communityfoundations.ca/cfc_locations/niagara-community-foundation/\">Niagara Community Foundation</a></h3>,\n",
       " <h3><a href=\"https://communityfoundations.ca/cfc_locations/north-bay-and-area-community-foundation/\">North Bay and Area Community Foundation</a></h3>,\n",
       " <h3><a href=\"https://communityfoundations.ca/cfc_locations/oakville-community-foundation/\">Oakville Community Foundation</a></h3>,\n",
       " <h3><a href=\"https://communityfoundations.ca/cfc_locations/community-foundation-of-ottawa-fondation-communautaire-dottawa/\">Ottawa Community Foundation</a></h3>,\n",
       " <h3><a href=\"https://communityfoundations.ca/cfc_locations/oxford-community-foundation/\">Oxford Community Foundation</a></h3>,\n",
       " <h3><a href=\"https://communityfoundations.ca/cfc_locations/pembroke-petawawa-district-community-foundation/\">Pembroke Petawawa District Community Foundation</a></h3>,\n",
       " <h3><a href=\"https://communityfoundations.ca/cfc_locations/sarnia-community-foundation/\">Sarnia Community Foundation</a></h3>,\n",
       " <h3><a href=\"https://communityfoundations.ca/cfc_locations/stratford-and-perth-county-community-foundation/\">Stratford and Perth County Community Foundation</a></h3>,\n",
       " <h3><a href=\"https://communityfoundations.ca/cfc_locations/sudbury-community-foundationfondation-communautaire-de-sudbury/\">Sudbury Community Foundation</a></h3>,\n",
       " <h3><a href=\"https://communityfoundations.ca/cfc_locations/the-chatham-kent-community-foundation/\">The Chatham Kent Community Foundation</a></h3>,\n",
       " <h3><a href=\"https://communityfoundations.ca/cfc_locations/the-community-foundation-of-orillia-and-area/\">The Community Foundation of Orillia and Area</a></h3>,\n",
       " <h3><a href=\"https://communityfoundations.ca/cfc_locations/prince-edward-county-community-foundation/\">The County Community Foundation</a></h3>,\n",
       " <h3><a href=\"https://communityfoundations.ca/cfc_locations/the-deep-river-and-district-community-foundation/\">The Deep River and District Community Foundation</a></h3>,\n",
       " <h3><a href=\"https://communityfoundations.ca/cfc_locations/the-dufferin-community-foundation/\">The Dufferin Community Foundation</a></h3>,\n",
       " <h3><a href=\"https://communityfoundations.ca/cfc_locations/the-guelph-community-foundation/\">The Guelph Community Foundation</a></h3>,\n",
       " <h3><a href=\"https://communityfoundations.ca/cfc_locations/the-kitchener-and-waterloo-community-foundation/\">The Kitchener and Waterloo Community Foundation</a></h3>,\n",
       " <h3><a href=\"https://communityfoundations.ca/cfc_locations/the-norfolk-community-foundation/\">The Norfolk Community Foundation</a></h3>,\n",
       " <h3><a href=\"https://communityfoundations.ca/cfc_locations/the-perth-and-district-community-foundation/\">The Perth and District Community Foundation</a></h3>,\n",
       " <h3><a href=\"https://communityfoundations.ca/cfc_locations/the-temagami-community-foundation/\">The Temagami Community Foundation</a></h3>,\n",
       " <h3><a href=\"https://communityfoundations.ca/cfc_locations/the-temiskaming-foundation/\">The Temiskaming Foundation</a></h3>,\n",
       " <h3><a href=\"https://communityfoundations.ca/cfc_locations/thunder-bay-community-foundation/\">Thunder Bay Community Foundation</a></h3>,\n",
       " <h3><a href=\"https://communityfoundations.ca/cfc_locations/toronto-community-foundation/\">Toronto Foundation</a></h3>,\n",
       " <h3><a href=\"https://communityfoundations.ca/cfc_locations/windsoressex-community-foundation/\">WindsorEssex Community Foundation</a></h3>,\n",
       " <h2>Prince Edward Island</h2>,\n",
       " <h3><a href=\"https://communityfoundations.ca/cfc_locations/the-community-foundation-of-prince-edward-island/\">The Community Foundation of Prince Edward Island</a></h3>,\n",
       " <h2>Québec</h2>,\n",
       " <h3><a href=\"https://communityfoundations.ca/cfc_locations/la-fondation-communautaire-de-lestrie/\">Eastern Townships Community Foundation</a></h3>,\n",
       " <h3><a href=\"https://communityfoundations.ca/cfc_locations/eenou-eeyou-community-foundation/\">Eenou-Eeyou Community Foundation</a></h3>,\n",
       " <h3><a href=\"https://communityfoundations.ca/cfc_locations/fondation-communautaire-de-labitibi-temiscamingue/\">Fondation communautaire de l’Abitibi-Temiscamingue</a></h3>,\n",
       " <h3><a href=\"https://communityfoundations.ca/cfc_locations/fondation-communautaire-de-lanaudi%c2%8fre/\">Fondation communautaire de Lanaudière</a></h3>,\n",
       " <h3><a href=\"https://communityfoundations.ca/cfc_locations/fondation-communautaire-du-saguenay-lac-saint-jean/\">Fondation communautaire du Saguenay-Lac-Saint-Jean</a></h3>,\n",
       " <h3><a href=\"https://communityfoundations.ca/cfc_locations/fondation-communautaire-du-saint-maurice/\">Fondation communautaire du Saint-Maurice</a></h3>,\n",
       " <h3><a href=\"https://communityfoundations.ca/cfc_locations/fondation-communautaire-gaspesie-les-eles/\">Fondation communautaire Gaspésie – Les Îles</a></h3>,\n",
       " <h3><a href=\"https://communityfoundations.ca/cfc_locations/fondation-laurentides/\">Fondation Laurentides</a></h3>,\n",
       " <h3><a href=\"https://communityfoundations.ca/cfc_locations/fondation-communautaire-du-grand-quebec/\">Fondation Québec Philanthrope</a></h3>,\n",
       " <h3><a href=\"https://communityfoundations.ca/cfc_locations/la-fondation-du-grand-montrzal-the-foundation-of-greater-montreal/\">The Foundation of Greater Montreal</a></h3>,\n",
       " <h2>Saskatchewan</h2>,\n",
       " <h3><a href=\"https://communityfoundations.ca/cfc_locations/battlefords-and-district-community-foundation-inc/\">Battlefords and District Community Foundation Inc.</a></h3>,\n",
       " <h3><a href=\"https://communityfoundations.ca/cfc_locations/family-friends-community-foundation-inc/\">Family &amp; Friends Community Foundation Inc.</a></h3>,\n",
       " <h3><a href=\"https://communityfoundations.ca/cfc_locations/prince-albert-and-area-community-foundation-inc/\">Prince Albert and Area Community Foundation Inc.</a></h3>,\n",
       " <h3><a href=\"https://communityfoundations.ca/cfc_locations/saskatoon-community-foundation/\">Saskatoon Community Foundation</a></h3>,\n",
       " <h3><a href=\"https://communityfoundations.ca/cfc_locations/south-saskatchewan-community-foundation-inc/\">South Saskatchewan Community Foundation Inc.</a></h3>,\n",
       " <h2>Yukon</h2>,\n",
       " <h3><a href=\"https://communityfoundations.ca/cfc_locations/the-yukon-foundation/\">The Yukon Foundation</a></h3>]"
      ]
     },
     "execution_count": 233,
     "metadata": {},
     "output_type": "execute_result"
    }
   ],
   "source": [
    "info_containers_all"
   ]
  },
  {
   "cell_type": "code",
   "execution_count": 258,
   "metadata": {},
   "outputs": [
    {
     "name": "stdout",
     "output_type": "stream",
     "text": [
      "In Province AB\n",
      "Foundation url Wood Buffalo Community Foundation\n",
      "In Province Alberta\n",
      "Foundation url Airdrie and District Community Foundation\n",
      "Foundation url Banff Canmore Community Foundation\n",
      "Foundation url Battle River Community Foundation\n",
      "Foundation url Community Foundation of Lethbridge And Southwestern Alberta\n",
      "Foundation url Community Foundation Of Northwestern Alberta\n",
      "Foundation url Community Foundation of Southeastern Alberta\n",
      "Foundation url Drayton Valley Community Foundation\n",
      "Foundation url Edmonton Community Foundation\n",
      "Foundation url Red Deer & District Community Foundation\n",
      "Foundation url St. Albert Community Foundation\n",
      "Foundation url The Calgary Foundation\n",
      "In Province British Columbia\n",
      "Foundation url Abbotsford Community Foundation\n",
      "Foundation url Alberni Valley Community Foundation\n",
      "Foundation url BC Interior Community Foundation\n",
      "Foundation url Bowen Island Community Foundation\n",
      "Foundation url Bulkley Valley Community Foundation\n",
      "Foundation url Campbell River Community Foundation\n",
      "Foundation url Central Okanagan Foundation\n",
      "Foundation url Clayoquot Biosphere Trust\n",
      "Foundation url Columbia Valley Community Foundation\n",
      "Foundation url Community Foundation of Castlegar & District\n",
      "Foundation url Community Foundation of the Kootenay Rockies\n",
      "Foundation url Community Foundation of the North Okanagan\n",
      "Foundation url Community Foundation of the South Okanagan\n",
      "Foundation url Community Foundation of Whistler\n",
      "Foundation url Comox Valley Community Foundation\n",
      "Foundation url Coquitlam Foundation\n",
      "Foundation url Creston – Kootenay Foundation\n",
      "Foundation url Delta Foundation\n",
      "Foundation url Golden & District Community Foundation\n",
      "Foundation url Gwaii Trust\n",
      "Foundation url Kimberley and District Community Foundation\n",
      "Foundation url Kitimat Community Foundation\n",
      "Foundation url LeRoi Community Foundation\n",
      "Foundation url Maple Ridge Community Foundation\n",
      "Foundation url Mission Community Foundation\n",
      "Foundation url Nakusp and Area Community Foundation\n",
      "Foundation url Nanaimo Foundation\n",
      "Foundation url North Shore Community Foundation\n",
      "Foundation url North Thompson Communities Foundation\n",
      "Foundation url Northeast Regional Community Foundation\n",
      "Foundation url Osprey Community Foundation\n",
      "Foundation url Parksville-Qualicum Foundation\n",
      "Foundation url Phoenix Foundation of the Boundary Communities\n",
      "Foundation url Pitt Meadows Community Foundation\n",
      "Foundation url Port Coquitlam Community Foundation\n",
      "Foundation url Port Moody Foundation\n",
      "Foundation url Powell River Community Foundation\n",
      "Foundation url Prince Rupert Regional Community Foundation\n",
      "Foundation url Quesnel Community Foundation\n",
      "Foundation url Revelstoke Community Foundation\n",
      "Foundation url Richmond Community Foundation\n",
      "Foundation url Salt Spring Island Foundation\n",
      "Foundation url Shuswap Community Foundation\n",
      "Foundation url Squamish Community Foundation\n",
      "Foundation url Sunshine Coast Community Foundation\n",
      "Foundation url SurreyCares\n",
      "Foundation url The Prince George Community Foundation\n",
      "Foundation url Thetis Island Community Fund\n",
      "Foundation url Vancouver Foundation\n",
      "Foundation url Victoria Foundation\n",
      "Foundation url West Vancouver Community Foundation\n",
      "In Province Manitoba\n",
      "Foundation url Beautiful Plains Community Foundation Inc.\n",
      "Foundation url Big Grass Community Foundation Inc.\n",
      "Foundation url Birtle and District Foundation\n",
      "Foundation url Brandon Area Community Foundation Inc.\n",
      "Foundation url Brokenhead River Community Foundation Inc.\n",
      "Foundation url Carberry and Area Community Foundation Inc.\n",
      "Foundation url Coldwell Community Foundation\n",
      "Foundation url Community Foundation of Portage and District Inc.\n",
      "Foundation url Community Foundation of Swan Valley Inc.\n",
      "Foundation url Cypress River & Area Foundation Inc.\n",
      "Foundation url Dauphin & District Community Foundation\n",
      "Foundation url Elkhorn & Area Foundation\n",
      "Foundation url Francofonds – La Fondation Communautaire du Manitoba Francais\n",
      "Foundation url Grandview & District Community Foundation\n",
      "Foundation url Hamiota Community Foundation\n",
      "Foundation url Headingley Community Foundation\n",
      "Foundation url Holland & Area Community Foundation Inc.\n",
      "Foundation url Icelandic River Community Foundation\n",
      "Foundation url Lac du Bonnet and District Foundation\n",
      "Foundation url Living Legacy Community Foundation\n",
      "Foundation url Miami and Area Foundation Inc.\n",
      "Foundation url Minnedosa & District Foundation Inc.\n",
      "Foundation url Morden Area Foundation Inc.\n",
      "Foundation url North Norfolk – MacGregor Foundation Inc.\n",
      "Foundation url Northern Neighbours Foundation, Inc.\n",
      "Foundation url Oak Lake & Area Foundation Inc.\n",
      "Foundation url Pembina – Manitou Area Foundation Inc.\n",
      "Foundation url Pilot Mound & District Foundation Inc.\n",
      "Foundation url Pinawa Community Foundation Inc.\n",
      "Foundation url Plum Coulee Community Foundation\n",
      "Foundation url Reston and Area Foundation Inc.\n",
      "Foundation url Rivers and Area Community Foundation Inc.\n",
      "Foundation url Roblin District Community Foundation\n",
      "Foundation url Selkirk & District Community Foundation\n",
      "Foundation url Shoal Lake Community Foundation\n",
      "Foundation url Souris Glenwood Foundation Inc.\n",
      "Foundation url Sturgeon Community Foundation Inc.\n",
      "Foundation url The Altona Community Foundation Inc.\n",
      "Foundation url The Boissevain and Morton Foundation Incorporated\n",
      "Foundation url The Carman Area Foundation Inc.\n",
      "Foundation url The Cartwright and Area Foundation Inc.\n",
      "Foundation url The Glenboro Area Foundation Inc.\n",
      "Foundation url The Interlake Community Foundation Inc.\n",
      "Foundation url The Killarney Foundation Inc.\n",
      "Foundation url The Morris Area Foundation Inc.\n",
      "Foundation url The Southwest Manitoba Regional Foundation\n",
      "Foundation url The Steinbach Community Foundation Inc.\n",
      "Foundation url The Winnipeg Foundation\n",
      "Foundation url Thompson Community Foundation\n",
      "Foundation url Tiger Hills Community Foundation Inc.\n",
      "Foundation url Virden Area Foundation Inc.\n",
      "Foundation url Wawanesa Community Foundation Inc.\n",
      "Foundation url Westshore Community Foundation Inc.\n",
      "Foundation url Winkler Community Foundation Inc.\n",
      "In Province New Brunswick\n",
      "Foundation url Carleton North Community Foundation\n",
      "Foundation url Fondation communautaire de la Péninsule acadienne Inc.\n",
      "Foundation url Fredericton Community Foundation Inc.\n",
      "Foundation url Fundy Community Foundation\n",
      "Foundation url Sussex Area Community Foundation Inc.\n",
      "Foundation url The Greater Saint John Community Foundation\n",
      "In Province Newfoundland and Labrador\n",
      "Foundation url Community Foundation of Newfoundland and Labrador\n",
      "In Province Northwest Territories\n",
      "Foundation url Yellowknife Community Foundation\n",
      "In Province Nova Scotia\n",
      "Foundation url Community Foundation of Nova Scotia\n",
      "Foundation url Rural Communities Foundation of Nova Scotia\n",
      "In Province Ontario\n",
      "Foundation url Aylmer Area Community Foundation\n",
      "Foundation url Barrie Community Foundation\n",
      "Foundation url Bradford West Gwillimbury and District Community Foundation (BWGDCF)\n",
      "Foundation url Brampton and Area Community Foundation\n",
      "Foundation url Brant Community Foundation\n",
      "Foundation url Brockville and Area Community Foundation\n",
      "Foundation url Burlington Community Foundation\n",
      "Foundation url Caledonia Community Foundation\n",
      "Foundation url Cambridge & North Dumfries Community Foundation\n",
      "Foundation url Campbellford/Seymour Community Foundation\n",
      "Foundation url Centre Wellington Community Foundation\n",
      "Foundation url Community Foundation for Kingston & Area\n",
      "Foundation url Community Foundation for Lennox and Addington\n",
      "Foundation url Community Foundation Grey Bruce\n",
      "Foundation url Community Foundation of Greater Peterborough\n",
      "Foundation url Community Foundation of Halton North\n",
      "Foundation url Community Foundation of Mississauga\n",
      "Foundation url Durham Community Foundation\n",
      "Foundation url Elgin-St. Thomas Community Foundation\n",
      "Foundation url Fondation Communautaire du Temiskaming\n",
      "Foundation url Forest Community Foundation\n",
      "Foundation url Grand Bend Community Foundation\n",
      "Foundation url Hamilton Community Foundation\n",
      "Foundation url Huronia Community Foundation\n",
      "Foundation url Kenora and Lake of the Woods Regional Community Foundation\n",
      "Foundation url London Community Foundation\n",
      "Foundation url Muskoka Community Foundation\n",
      "Foundation url Niagara Community Foundation\n",
      "Foundation url North Bay and Area Community Foundation\n",
      "Foundation url Oakville Community Foundation\n",
      "Foundation url Ottawa Community Foundation\n",
      "Foundation url Oxford Community Foundation\n",
      "Foundation url Pembroke Petawawa District Community Foundation\n",
      "Foundation url Sarnia Community Foundation\n",
      "Foundation url Stratford and Perth County Community Foundation\n",
      "Foundation url Sudbury Community Foundation\n",
      "Foundation url The Chatham Kent Community Foundation\n",
      "Foundation url The Community Foundation of Orillia and Area\n",
      "Foundation url The County Community Foundation\n",
      "Foundation url The Deep River and District Community Foundation\n",
      "Foundation url The Dufferin Community Foundation\n",
      "Foundation url The Guelph Community Foundation\n",
      "Foundation url The Kitchener and Waterloo Community Foundation\n",
      "Foundation url The Norfolk Community Foundation\n",
      "Foundation url The Perth and District Community Foundation\n",
      "Foundation url The Temagami Community Foundation\n",
      "Foundation url The Temiskaming Foundation\n",
      "Foundation url Thunder Bay Community Foundation\n",
      "Foundation url Toronto Foundation\n",
      "Foundation url WindsorEssex Community Foundation\n",
      "In Province Prince Edward Island\n",
      "Foundation url The Community Foundation of Prince Edward Island\n",
      "In Province Québec\n",
      "Foundation url Eastern Townships Community Foundation\n",
      "Foundation url Eenou-Eeyou Community Foundation\n",
      "Foundation url Fondation communautaire de l’Abitibi-Temiscamingue\n",
      "Foundation url Fondation communautaire de Lanaudière\n",
      "Foundation url Fondation communautaire du Saguenay-Lac-Saint-Jean\n",
      "Foundation url Fondation communautaire du Saint-Maurice\n",
      "Foundation url Fondation communautaire Gaspésie – Les Îles\n",
      "Foundation url Fondation Laurentides\n",
      "Foundation url Fondation Québec Philanthrope\n",
      "Foundation url The Foundation of Greater Montreal\n",
      "In Province Saskatchewan\n",
      "Foundation url Battlefords and District Community Foundation Inc.\n",
      "Foundation url Family & Friends Community Foundation Inc.\n",
      "Foundation url Prince Albert and Area Community Foundation Inc.\n",
      "Foundation url Saskatoon Community Foundation\n",
      "Foundation url South Saskatchewan Community Foundation Inc.\n",
      "In Province Yukon\n",
      "Foundation url The Yukon Foundation\n"
     ]
    }
   ],
   "source": [
    "for lines in info_containers_all:\n",
    "    if lines.name == 'h2': \n",
    "        print ('In Province', lines.text)\n",
    "    if lines.name == 'h3': \n",
    "        print ('Foundation url', lines.text)\n",
    "        \n",
    "    \n",
    "    "
   ]
  },
  {
   "cell_type": "code",
   "execution_count": 262,
   "metadata": {},
   "outputs": [
    {
     "name": "stdout",
     "output_type": "stream",
     "text": [
      "Foundation url https://communityfoundations.ca/cfc_locations/wood-buffalo-community-foundation/\n",
      "Foundation url https://communityfoundations.ca/cfc_locations/airdrie-and-district-community-foundation/\n",
      "Foundation url https://communityfoundations.ca/cfc_locations/the-banff-community-foundation/\n",
      "Foundation url https://communityfoundations.ca/cfc_locations/battle-river-community-foundation/\n",
      "Foundation url https://communityfoundations.ca/cfc_locations/community-foundation-of-lethbridge-and-southwestern-alberta/\n",
      "Foundation url https://communityfoundations.ca/cfc_locations/community-foundation-of-northwestern-alberta/\n",
      "Foundation url https://communityfoundations.ca/cfc_locations/community-foundation-of-medicine-hat-and-southeastern-alberta/\n",
      "Foundation url https://communityfoundations.ca/cfc_locations/drayton-valley-community-foundation/\n",
      "Foundation url https://communityfoundations.ca/cfc_locations/edmonton-community-foundation/\n",
      "Foundation url https://communityfoundations.ca/cfc_locations/red-deer-district-community-foundation/\n",
      "Foundation url https://communityfoundations.ca/cfc_locations/st-albert-community-foundation/\n",
      "Foundation url https://communityfoundations.ca/cfc_locations/the-calgary-foundation/\n",
      "Foundation url https://communityfoundations.ca/cfc_locations/abbotsford-community-foundation/\n",
      "Foundation url https://communityfoundations.ca/cfc_locations/alberni-valley-community-foundation/\n",
      "Foundation url https://communityfoundations.ca/cfc_locations/kamloops-foundation/\n",
      "Foundation url https://communityfoundations.ca/cfc_locations/bowen-island-community-foundation/\n",
      "Foundation url https://communityfoundations.ca/cfc_locations/bulkley-valley-community-foundation/\n",
      "Foundation url https://communityfoundations.ca/cfc_locations/campbell-river-community-foundation/\n",
      "Foundation url https://communityfoundations.ca/cfc_locations/central-okanagan-foundation/\n",
      "Foundation url https://communityfoundations.ca/cfc_locations/clayoquot-biosphere-trust/\n",
      "Foundation url https://communityfoundations.ca/cfc_locations/columbia-valley-community-foundation/\n",
      "Foundation url https://communityfoundations.ca/cfc_locations/community-foundation-of-castlegar-district/\n",
      "Foundation url https://communityfoundations.ca/cfc_locations/cranbrook-district-community-foundation/\n",
      "Foundation url https://communityfoundations.ca/cfc_locations/community-foundation-of-the-north-okanagan/\n",
      "Foundation url https://communityfoundations.ca/cfc_locations/community-foundation-of-the-south-okanagan/\n",
      "Foundation url https://communityfoundations.ca/cfc_locations/community-foundation-of-whistler/\n",
      "Foundation url https://communityfoundations.ca/cfc_locations/comox-valley-community-foundation/\n",
      "Foundation url https://communityfoundations.ca/cfc_locations/coquitlam-foundation/\n",
      "Foundation url https://communityfoundations.ca/cfc_locations/creston-kootenay-foundation/\n",
      "Foundation url https://communityfoundations.ca/cfc_locations/delta-foundation/\n",
      "Foundation url https://communityfoundations.ca/cfc_locations/golden-district-community-foundation/\n",
      "Foundation url https://communityfoundations.ca/cfc_locations/haida-gwaii-community-foundation/\n",
      "Foundation url https://communityfoundations.ca/cfc_locations/kimberley-and-district-community-foundation/\n",
      "Foundation url https://communityfoundations.ca/cfc_locations/kitimat-community-foundation/\n",
      "Foundation url https://communityfoundations.ca/cfc_locations/leroi-community-foundation/\n",
      "Foundation url https://communityfoundations.ca/cfc_locations/maple-ridge-community-foundation/\n",
      "Foundation url https://communityfoundations.ca/cfc_locations/mission-community-foundation/\n",
      "Foundation url https://communityfoundations.ca/cfc_locations/nakusp-and-area-community-foundation/\n",
      "Foundation url https://communityfoundations.ca/cfc_locations/the-nanaimo-community-foundation/\n",
      "Foundation url https://communityfoundations.ca/cfc_locations/north-shore-community-foundation/\n",
      "Foundation url https://communityfoundations.ca/cfc_locations/north-thompson-communities-foundation/\n",
      "Foundation url https://communityfoundations.ca/cfc_locations/northeast-regional-community-foundation/\n",
      "Foundation url https://communityfoundations.ca/cfc_locations/osprey-community-foundation/\n",
      "Foundation url https://communityfoundations.ca/cfc_locations/parksville-qualicum-foundation/\n",
      "Foundation url https://communityfoundations.ca/cfc_locations/phoenix-foundation-of-the-boundary-communities/\n",
      "Foundation url https://communityfoundations.ca/cfc_locations/pitt-meadows-community-foundation/\n",
      "Foundation url https://communityfoundations.ca/cfc_locations/port-coquitlam-community-foundation/\n",
      "Foundation url https://communityfoundations.ca/cfc_locations/port-moody-foundation/\n",
      "Foundation url https://communityfoundations.ca/cfc_locations/powell-river-community-foundation/\n",
      "Foundation url https://communityfoundations.ca/cfc_locations/prince-rupert-regional-community-foundation/\n",
      "Foundation url https://communityfoundations.ca/cfc_locations/quesnel-community-foundation/\n",
      "Foundation url https://communityfoundations.ca/cfc_locations/revelstoke-community-foundation/\n",
      "Foundation url https://communityfoundations.ca/cfc_locations/richmond-community-foundation/\n",
      "Foundation url https://communityfoundations.ca/cfc_locations/salt-spring-island-foundation/\n",
      "Foundation url https://communityfoundations.ca/cfc_locations/shuswap-community-foundation/\n",
      "Foundation url https://communityfoundations.ca/cfc_locations/squamish-community-foundation/\n",
      "Foundation url https://communityfoundations.ca/cfc_locations/sunshine-coast-community-foundation/\n",
      "Foundation url https://communityfoundations.ca/cfc_locations/surrey-cares/\n",
      "Foundation url https://communityfoundations.ca/cfc_locations/the-prince-george-community-foundation/\n",
      "Foundation url https://communityfoundations.ca/cfc_locations/thetis-island-community-fund/\n",
      "Foundation url https://communityfoundations.ca/cfc_locations/vancouver-foundation/\n",
      "Foundation url https://communityfoundations.ca/cfc_locations/victoria-foundation/\n",
      "Foundation url https://communityfoundations.ca/cfc_locations/west-vancouver-community-foundation/\n",
      "Foundation url https://communityfoundations.ca/cfc_locations/beautiful-plains-community-foundation-inc/\n",
      "Foundation url https://communityfoundations.ca/cfc_locations/big-grass-community-foundation-inc/\n",
      "Foundation url https://communityfoundations.ca/cfc_locations/birtle-and-district-foundation/\n",
      "Foundation url https://communityfoundations.ca/cfc_locations/brandon-area-community-foundation-inc/\n",
      "Foundation url https://communityfoundations.ca/cfc_locations/brokenhead-river-community-foundation-inc/\n",
      "Foundation url https://communityfoundations.ca/cfc_locations/carberry-and-area-community-foundation-inc/\n",
      "Foundation url https://communityfoundations.ca/cfc_locations/coldwell-community-foundation/\n",
      "Foundation url https://communityfoundations.ca/cfc_locations/community-foundation-of-portage-and-district-inc/\n",
      "Foundation url https://communityfoundations.ca/cfc_locations/community-foundation-of-swan-valley-inc/\n",
      "Foundation url https://communityfoundations.ca/cfc_locations/cypress-river-area-foundation-inc/\n",
      "Foundation url https://communityfoundations.ca/cfc_locations/dauphin-district-community-foundation/\n",
      "Foundation url https://communityfoundations.ca/cfc_locations/elkhorn-area-foundation/\n",
      "Foundation url https://communityfoundations.ca/cfc_locations/francofonds-la-fondation-communautaire-du-manitoba-francais/\n",
      "Foundation url https://communityfoundations.ca/cfc_locations/grandview-district-community-foundation/\n",
      "Foundation url https://communityfoundations.ca/cfc_locations/hamiota-community-foundation/\n",
      "Foundation url https://communityfoundations.ca/cfc_locations/headingley-community-foundation/\n",
      "Foundation url https://communityfoundations.ca/cfc_locations/holland-area-community-foundation-inc/\n",
      "Foundation url https://communityfoundations.ca/cfc_locations/icelandic-river-community-foundation/\n",
      "Foundation url https://communityfoundations.ca/cfc_locations/lac-du-bonnet-and-district-foundation/\n",
      "Foundation url https://communityfoundations.ca/cfc_locations/living-legacy-community-foundation/\n",
      "Foundation url https://communityfoundations.ca/cfc_locations/miami-and-area-foundation-inc/\n",
      "Foundation url https://communityfoundations.ca/cfc_locations/minnedosa-district-foundation-inc/\n",
      "Foundation url https://communityfoundations.ca/cfc_locations/morden-area-foundation-inc/\n",
      "Foundation url https://communityfoundations.ca/cfc_locations/north-norfolk-macgregor-foundation-inc/\n",
      "Foundation url https://communityfoundations.ca/cfc_locations/northern-neighbours-foundation-inc/\n",
      "Foundation url https://communityfoundations.ca/cfc_locations/oak-lake-area-foundation-inc/\n",
      "Foundation url https://communityfoundations.ca/cfc_locations/pembina-manitou-area-foundation-inc/\n",
      "Foundation url https://communityfoundations.ca/cfc_locations/pilot-mound-district-foundation-inc/\n",
      "Foundation url https://communityfoundations.ca/cfc_locations/pinawa-community-foundation-inc/\n",
      "Foundation url https://communityfoundations.ca/cfc_locations/plum-coulee-community-foundation/\n",
      "Foundation url https://communityfoundations.ca/cfc_locations/reston-and-area-foundation-inc/\n",
      "Foundation url https://communityfoundations.ca/cfc_locations/rivers-and-area-community-foundation-inc/\n",
      "Foundation url https://communityfoundations.ca/cfc_locations/roblin-district-community-foundation/\n",
      "Foundation url https://communityfoundations.ca/cfc_locations/selkirk-district-community-foundation/\n",
      "Foundation url https://communityfoundations.ca/cfc_locations/shoal-lake-community-foundation/\n",
      "Foundation url https://communityfoundations.ca/cfc_locations/souris-glenwood-foundation-inc/\n",
      "Foundation url https://communityfoundations.ca/cfc_locations/sturgeon-community-foundation-inc/\n",
      "Foundation url https://communityfoundations.ca/cfc_locations/the-altona-community-foundation-inc/\n",
      "Foundation url https://communityfoundations.ca/cfc_locations/the-boissevain-and-morton-foundation-incorporated/\n",
      "Foundation url https://communityfoundations.ca/cfc_locations/the-carman-area-foundation-inc/\n",
      "Foundation url https://communityfoundations.ca/cfc_locations/the-cartwright-and-area-foundation-inc/\n",
      "Foundation url https://communityfoundations.ca/cfc_locations/the-glenboro-area-foundation-inc/\n",
      "Foundation url https://communityfoundations.ca/cfc_locations/the-interlake-community-foundation-inc/\n",
      "Foundation url https://communityfoundations.ca/cfc_locations/the-killarney-foundation-inc/\n",
      "Foundation url https://communityfoundations.ca/cfc_locations/the-morris-area-foundation-inc/\n",
      "Foundation url https://communityfoundations.ca/cfc_locations/the-southwest-manitoba-regional-foundation/\n",
      "Foundation url https://communityfoundations.ca/cfc_locations/the-steinbach-community-foundation-inc/\n",
      "Foundation url https://communityfoundations.ca/cfc_locations/the-winnipeg-foundation/\n",
      "Foundation url https://communityfoundations.ca/cfc_locations/thompson-community-foundation/\n",
      "Foundation url https://communityfoundations.ca/cfc_locations/tiger-hills-community-foundation-inc/\n",
      "Foundation url https://communityfoundations.ca/cfc_locations/virden-area-foundation-inc/\n",
      "Foundation url https://communityfoundations.ca/cfc_locations/wawanesa-community-foundation-inc/\n",
      "Foundation url https://communityfoundations.ca/cfc_locations/westshore-community-foundation-inc/\n",
      "Foundation url https://communityfoundations.ca/cfc_locations/winkler-community-foundation-inc/\n",
      "Foundation url https://communityfoundations.ca/cfc_locations/carleton-north-community-foundation/\n",
      "Foundation url https://communityfoundations.ca/cfc_locations/fondation-communautaire-de-la-peninsule-acadienne-inc/\n",
      "Foundation url https://communityfoundations.ca/cfc_locations/fredericton-community-foundation-inc/\n",
      "Foundation url https://communityfoundations.ca/cfc_locations/fundy-community-foundation/\n",
      "Foundation url https://communityfoundations.ca/cfc_locations/sussex-area-community-foundation-inc/\n",
      "Foundation url https://communityfoundations.ca/cfc_locations/the-greater-saint-john-community-foundation/\n",
      "Foundation url https://communityfoundations.ca/cfc_locations/community-foundation-of-newfoundland-and-labrador/\n",
      "Foundation url https://communityfoundations.ca/cfc_locations/yellowknife-community-foundation/\n",
      "Foundation url https://communityfoundations.ca/cfc_locations/community-foundation-of-nova-scotia/\n",
      "Foundation url https://communityfoundations.ca/cfc_locations/rural-communities-foundation-of-nova-scotia/\n",
      "Foundation url https://communityfoundations.ca/cfc_locations/aylmer-area-community-foundation/\n",
      "Foundation url https://communityfoundations.ca/cfc_locations/barrie-community-foundation/\n",
      "Foundation url https://communityfoundations.ca/cfc_locations/bradford-west-gwillimbury-and-district-community-foundation-bwgdcf/\n",
      "Foundation url https://communityfoundations.ca/cfc_locations/brampton-and-area-community-foundation/\n",
      "Foundation url https://communityfoundations.ca/cfc_locations/brant-community-foundation/\n",
      "Foundation url https://communityfoundations.ca/cfc_locations/brockville-and-area-community-foundation/\n",
      "Foundation url https://communityfoundations.ca/cfc_locations/burlington-community-foundation/\n",
      "Foundation url https://communityfoundations.ca/cfc_locations/caledonia-community-foundation/\n",
      "Foundation url https://communityfoundations.ca/cfc_locations/cambridge-north-dumfries-community-foundation/\n",
      "Foundation url https://communityfoundations.ca/cfc_locations/campbellfordseymour-community-foundation/\n",
      "Foundation url https://communityfoundations.ca/cfc_locations/centre-wellington-community-foundation/\n",
      "Foundation url https://communityfoundations.ca/cfc_locations/community-foundation-for-kingston-area/\n",
      "Foundation url https://communityfoundations.ca/cfc_locations/napanee-district-community-foundation/\n",
      "Foundation url https://communityfoundations.ca/cfc_locations/community-foundation-grey-bruce/\n",
      "Foundation url https://communityfoundations.ca/cfc_locations/community-foundation-of-greater-peterborough/\n",
      "Foundation url https://communityfoundations.ca/cfc_locations/community-foundation-of-halton-north/\n",
      "Foundation url https://communityfoundations.ca/cfc_locations/community-foundation-of-mississauga/\n",
      "Foundation url https://communityfoundations.ca/cfc_locations/durham-community-foundation/\n",
      "Foundation url https://communityfoundations.ca/cfc_locations/elgin-st-thomas-community-foundation/\n",
      "Foundation url https://communityfoundations.ca/cfc_locations/fondation-communautaire-du-temiskaming/\n",
      "Foundation url https://communityfoundations.ca/cfc_locations/forest-community-foundation/\n",
      "Foundation url https://communityfoundations.ca/cfc_locations/grand-bend-community-foundation/\n",
      "Foundation url https://communityfoundations.ca/cfc_locations/hamilton-community-foundation/\n",
      "Foundation url https://communityfoundations.ca/cfc_locations/huronia-community-foundation-la-fondation-communautaire-de-la-huronie/\n",
      "Foundation url https://communityfoundations.ca/cfc_locations/kenora-and-lake-of-the-woods-regional-community-foundation/\n",
      "Foundation url https://communityfoundations.ca/cfc_locations/london-community-foundation/\n",
      "Foundation url https://communityfoundations.ca/cfc_locations/muskoka-community-foundation/\n",
      "Foundation url https://communityfoundations.ca/cfc_locations/niagara-community-foundation/\n",
      "Foundation url https://communityfoundations.ca/cfc_locations/north-bay-and-area-community-foundation/\n",
      "Foundation url https://communityfoundations.ca/cfc_locations/oakville-community-foundation/\n",
      "Foundation url https://communityfoundations.ca/cfc_locations/community-foundation-of-ottawa-fondation-communautaire-dottawa/\n",
      "Foundation url https://communityfoundations.ca/cfc_locations/oxford-community-foundation/\n",
      "Foundation url https://communityfoundations.ca/cfc_locations/pembroke-petawawa-district-community-foundation/\n",
      "Foundation url https://communityfoundations.ca/cfc_locations/sarnia-community-foundation/\n",
      "Foundation url https://communityfoundations.ca/cfc_locations/stratford-and-perth-county-community-foundation/\n",
      "Foundation url https://communityfoundations.ca/cfc_locations/sudbury-community-foundationfondation-communautaire-de-sudbury/\n",
      "Foundation url https://communityfoundations.ca/cfc_locations/the-chatham-kent-community-foundation/\n",
      "Foundation url https://communityfoundations.ca/cfc_locations/the-community-foundation-of-orillia-and-area/\n",
      "Foundation url https://communityfoundations.ca/cfc_locations/prince-edward-county-community-foundation/\n",
      "Foundation url https://communityfoundations.ca/cfc_locations/the-deep-river-and-district-community-foundation/\n",
      "Foundation url https://communityfoundations.ca/cfc_locations/the-dufferin-community-foundation/\n",
      "Foundation url https://communityfoundations.ca/cfc_locations/the-guelph-community-foundation/\n",
      "Foundation url https://communityfoundations.ca/cfc_locations/the-kitchener-and-waterloo-community-foundation/\n",
      "Foundation url https://communityfoundations.ca/cfc_locations/the-norfolk-community-foundation/\n",
      "Foundation url https://communityfoundations.ca/cfc_locations/the-perth-and-district-community-foundation/\n",
      "Foundation url https://communityfoundations.ca/cfc_locations/the-temagami-community-foundation/\n",
      "Foundation url https://communityfoundations.ca/cfc_locations/the-temiskaming-foundation/\n",
      "Foundation url https://communityfoundations.ca/cfc_locations/thunder-bay-community-foundation/\n",
      "Foundation url https://communityfoundations.ca/cfc_locations/toronto-community-foundation/\n",
      "Foundation url https://communityfoundations.ca/cfc_locations/windsoressex-community-foundation/\n",
      "Foundation url https://communityfoundations.ca/cfc_locations/the-community-foundation-of-prince-edward-island/\n",
      "Foundation url https://communityfoundations.ca/cfc_locations/la-fondation-communautaire-de-lestrie/\n",
      "Foundation url https://communityfoundations.ca/cfc_locations/eenou-eeyou-community-foundation/\n",
      "Foundation url https://communityfoundations.ca/cfc_locations/fondation-communautaire-de-labitibi-temiscamingue/\n",
      "Foundation url https://communityfoundations.ca/cfc_locations/fondation-communautaire-de-lanaudi%c2%8fre/\n",
      "Foundation url https://communityfoundations.ca/cfc_locations/fondation-communautaire-du-saguenay-lac-saint-jean/\n",
      "Foundation url https://communityfoundations.ca/cfc_locations/fondation-communautaire-du-saint-maurice/\n",
      "Foundation url https://communityfoundations.ca/cfc_locations/fondation-communautaire-gaspesie-les-eles/\n",
      "Foundation url https://communityfoundations.ca/cfc_locations/fondation-laurentides/\n",
      "Foundation url https://communityfoundations.ca/cfc_locations/fondation-communautaire-du-grand-quebec/\n",
      "Foundation url https://communityfoundations.ca/cfc_locations/la-fondation-du-grand-montrzal-the-foundation-of-greater-montreal/\n",
      "Foundation url https://communityfoundations.ca/cfc_locations/battlefords-and-district-community-foundation-inc/\n",
      "Foundation url https://communityfoundations.ca/cfc_locations/family-friends-community-foundation-inc/\n",
      "Foundation url https://communityfoundations.ca/cfc_locations/prince-albert-and-area-community-foundation-inc/\n",
      "Foundation url https://communityfoundations.ca/cfc_locations/saskatoon-community-foundation/\n",
      "Foundation url https://communityfoundations.ca/cfc_locations/south-saskatchewan-community-foundation-inc/\n",
      "Foundation url https://communityfoundations.ca/cfc_locations/the-yukon-foundation/\n"
     ]
    }
   ],
   "source": [
    "for lines in info_containers_all:\n",
    "    if lines.name == 'h3': \n",
    "        print ('Foundation url', lines.find_all(\"a\", href=re.compile(\"cfc_locations\"))[0].get('href'))"
   ]
  },
  {
   "cell_type": "code",
   "execution_count": 248,
   "metadata": {},
   "outputs": [
    {
     "name": "stdout",
     "output_type": "stream",
     "text": [
      "<class 'bs4.element.ResultSet'>\n",
      "13\n"
     ]
    }
   ],
   "source": [
    "soup = BeautifulSoup(response.text, 'lxml')\n",
    "heds = soup.find_all('h2', class_=lambda x: x != 'hidden')\n",
    "print(type(heds))\n",
    "print(len(heds))"
   ]
  },
  {
   "cell_type": "code",
   "execution_count": 249,
   "metadata": {},
   "outputs": [],
   "source": [
    "links = []\n",
    "for h in heds:\n",
    "    links.append(h.find('h3'))"
   ]
  },
  {
   "cell_type": "code",
   "execution_count": 250,
   "metadata": {},
   "outputs": [
    {
     "data": {
      "text/plain": [
       "[None, None, None, None, None, None, None, None, None, None, None, None, None]"
      ]
     },
     "execution_count": 250,
     "metadata": {},
     "output_type": "execute_result"
    }
   ],
   "source": [
    "links"
   ]
  },
  {
   "cell_type": "code",
   "execution_count": 257,
   "metadata": {},
   "outputs": [
    {
     "ename": "AttributeError",
     "evalue": "'NoneType' object has no attribute 'attrs'",
     "output_type": "error",
     "traceback": [
      "\u001b[0;31m---------------------------------------------------------------------------\u001b[0m",
      "\u001b[0;31mAttributeError\u001b[0m                            Traceback (most recent call last)",
      "\u001b[0;32m<ipython-input-257-c985a56634bb>\u001b[0m in \u001b[0;36m<module>\u001b[0;34m()\u001b[0m\n\u001b[1;32m      2\u001b[0m \u001b[0;32mfor\u001b[0m \u001b[0mh\u001b[0m \u001b[0;32min\u001b[0m \u001b[0msoup\u001b[0m\u001b[0;34m.\u001b[0m\u001b[0mfind_all\u001b[0m\u001b[0;34m(\u001b[0m\u001b[0;34m'h2'\u001b[0m\u001b[0;34m,\u001b[0m \u001b[0mclass_\u001b[0m\u001b[0;34m=\u001b[0m\u001b[0;32mlambda\u001b[0m \u001b[0mx\u001b[0m\u001b[0;34m:\u001b[0m \u001b[0mx\u001b[0m \u001b[0;34m!=\u001b[0m \u001b[0;34m'hidden'\u001b[0m\u001b[0;34m)\u001b[0m\u001b[0;34m:\u001b[0m\u001b[0;34m\u001b[0m\u001b[0m\n\u001b[1;32m      3\u001b[0m     \u001b[0ma\u001b[0m \u001b[0;34m=\u001b[0m \u001b[0mh\u001b[0m\u001b[0;34m.\u001b[0m\u001b[0mfind\u001b[0m\u001b[0;34m(\u001b[0m\u001b[0;34m'h3'\u001b[0m\u001b[0;34m)\u001b[0m\u001b[0;34m\u001b[0m\u001b[0m\n\u001b[0;32m----> 4\u001b[0;31m     \u001b[0murls\u001b[0m\u001b[0;34m.\u001b[0m\u001b[0mappend\u001b[0m\u001b[0;34m(\u001b[0m\u001b[0ma\u001b[0m\u001b[0;34m.\u001b[0m\u001b[0mattrs\u001b[0m\u001b[0;34m[\u001b[0m\u001b[0;34m'href'\u001b[0m\u001b[0;34m]\u001b[0m\u001b[0;34m)\u001b[0m\u001b[0;34m\u001b[0m\u001b[0m\n\u001b[0m\u001b[1;32m      5\u001b[0m \u001b[0murls\u001b[0m\u001b[0;34m\u001b[0m\u001b[0m\n",
      "\u001b[0;31mAttributeError\u001b[0m: 'NoneType' object has no attribute 'attrs'"
     ]
    }
   ],
   "source": [
    "urls = []\n",
    "for h in soup.find_all('h2', class_=lambda x: x != 'hidden'):\n",
    "    a = h.find('h3')\n",
    "    urls.append(a.attrs['href'])\n",
    "urls"
   ]
  },
  {
   "cell_type": "code",
   "execution_count": 203,
   "metadata": {},
   "outputs": [
    {
     "data": {
      "text/plain": [
       "<Response [200]>"
      ]
     },
     "execution_count": 203,
     "metadata": {},
     "output_type": "execute_result"
    }
   ],
   "source": [
    "url = 'https://communityfoundations.ca/cfc_locations/the-banff-community-foundation/'\n",
    "\n",
    "subresponse = get(url)\n",
    "#print(subresponse.text[:500])\n",
    "subresponse"
   ]
  },
  {
   "cell_type": "code",
   "execution_count": 16,
   "metadata": {},
   "outputs": [
    {
     "name": "stdout",
     "output_type": "stream",
     "text": [
      "<class 'bs4.element.ResultSet'>\n",
      "1\n"
     ]
    }
   ],
   "source": [
    "html_subsoup = BeautifulSoup(subresponse.text, 'html.parser')\n",
    "addr_containers = html_subsoup.find_all('div', class_ = 'single-meta single-event')\n",
    "print(type(addr_containers))\n",
    "print(len(addr_containers))"
   ]
  },
  {
   "cell_type": "code",
   "execution_count": 17,
   "metadata": {},
   "outputs": [
    {
     "data": {
      "text/plain": [
       "<div class=\"single-meta single-event\">\n",
       "<p class=\"meta-line location\">214 Banff Avenue/Box 3100  | Banff | T1L 1C7</p>\n",
       "<p class=\"meta-line phone\"><a href=\"tel:403-762-8549\">403-762-8549</a></p>\n",
       "<p class=\"meta-line link\"><a href=\"http://www.banffcanmorecf.org\">www.banffcanmorecf.org</a></p>\n",
       "<p class=\"meta-line contact\">Rob Buffler, Executive Director</p>\n",
       "</div>"
      ]
     },
     "execution_count": 17,
     "metadata": {},
     "output_type": "execute_result"
    }
   ],
   "source": [
    "first_subcfc = addr_containers[0]\n",
    "first_subcfc"
   ]
  },
  {
   "cell_type": "code",
   "execution_count": 37,
   "metadata": {},
   "outputs": [
    {
     "name": "stdout",
     "output_type": "stream",
     "text": [
      "<class 'bs4.element.ResultSet'>\n",
      "1\n"
     ]
    },
    {
     "data": {
      "text/plain": [
       "'214 Banff Avenue/Box 3100  | Banff | T1L 1C7'"
      ]
     },
     "execution_count": 37,
     "metadata": {},
     "output_type": "execute_result"
    }
   ],
   "source": [
    "c_1ocation = html_subsoup.find_all('p', class_ = 'meta-line location')\n",
    "print(type(c_1ocation))\n",
    "print(len(c_1ocation))\n",
    "ctext_location = c_1ocation[0]\n",
    "ctext_location.text"
   ]
  },
  {
   "cell_type": "code",
   "execution_count": 46,
   "metadata": {},
   "outputs": [
    {
     "name": "stdout",
     "output_type": "stream",
     "text": [
      "<class 'bs4.element.ResultSet'>\n",
      "1\n"
     ]
    },
    {
     "data": {
      "text/plain": [
       "'403-762-8549'"
      ]
     },
     "execution_count": 46,
     "metadata": {},
     "output_type": "execute_result"
    }
   ],
   "source": [
    "c_phone = html_subsoup.find_all('p', class_ = 'meta-line phone')\n",
    "print(type(c_phone))\n",
    "print(len(c_phone))\n",
    "ctext_phone = c_phone[0]\n",
    "ctext_phone.text"
   ]
  },
  {
   "cell_type": "code",
   "execution_count": 47,
   "metadata": {},
   "outputs": [
    {
     "name": "stdout",
     "output_type": "stream",
     "text": [
      "<class 'bs4.element.ResultSet'>\n",
      "1\n"
     ]
    },
    {
     "data": {
      "text/plain": [
       "'www.banffcanmorecf.org'"
      ]
     },
     "execution_count": 47,
     "metadata": {},
     "output_type": "execute_result"
    }
   ],
   "source": [
    "c_link = html_subsoup.find_all('p', class_ = 'meta-line link')\n",
    "print(type(c_link))\n",
    "print(len(c_link))\n",
    "ctext_link = c_link[0]\n",
    "ctext_link.text"
   ]
  },
  {
   "cell_type": "code",
   "execution_count": 52,
   "metadata": {},
   "outputs": [
    {
     "name": "stdout",
     "output_type": "stream",
     "text": [
      "<class 'bs4.element.ResultSet'>\n",
      "1\n"
     ]
    },
    {
     "data": {
      "text/plain": [
       "'Rob Buffler, Executive Director'"
      ]
     },
     "execution_count": 52,
     "metadata": {},
     "output_type": "execute_result"
    }
   ],
   "source": [
    "c_contact = html_subsoup.find_all('p', class_ = 'meta-line contact')\n",
    "print(type(c_contact))\n",
    "print(len(c_contact))\n",
    "ctext_contact = c_contact[0]\n",
    "ctext_contact.text\n",
    "c_contact[0].text"
   ]
  },
  {
   "cell_type": "code",
   "execution_count": 57,
   "metadata": {},
   "outputs": [
    {
     "name": "stdout",
     "output_type": "stream",
     "text": [
      "214 Banff Avenue/Box 3100  | Banff | T1L 1C7\n",
      "403-762-8549\n",
      "www.banffcanmorecf.org\n",
      "Rob Buffler, Executive Director\n"
     ]
    }
   ],
   "source": [
    "for link in html_subsoup.find_all('p'):\n",
    "    #print(type(link))\n",
    "    #print(len(link))\n",
    "    print(link.text)"
   ]
  },
  {
   "cell_type": "code",
   "execution_count": 92,
   "metadata": {},
   "outputs": [
    {
     "data": {
      "text/plain": [
       "'Rob Buffler, Executive Director'"
      ]
     },
     "execution_count": 92,
     "metadata": {},
     "output_type": "execute_result"
    }
   ],
   "source": [
    "c_contact[0].text"
   ]
  },
  {
   "cell_type": "code",
   "execution_count": 113,
   "metadata": {},
   "outputs": [
    {
     "data": {
      "text/plain": [
       "['Rob Buffler', 'Executive Director']"
      ]
     },
     "execution_count": 113,
     "metadata": {},
     "output_type": "execute_result"
    }
   ],
   "source": [
    "nameArray = re.split(r', ', c_contact[0].text)\n",
    "nameArray"
   ]
  },
  {
   "cell_type": "code",
   "execution_count": 114,
   "metadata": {},
   "outputs": [],
   "source": [
    "name = nameArray[0]"
   ]
  },
  {
   "cell_type": "code",
   "execution_count": 115,
   "metadata": {},
   "outputs": [
    {
     "data": {
      "text/plain": [
       "'Rob Buffler'"
      ]
     },
     "execution_count": 115,
     "metadata": {},
     "output_type": "execute_result"
    }
   ],
   "source": [
    "name.strip('\\'')\n",
    "name"
   ]
  },
  {
   "cell_type": "code",
   "execution_count": 116,
   "metadata": {},
   "outputs": [
    {
     "data": {
      "text/plain": [
       "'Executive Director'"
      ]
     },
     "execution_count": 116,
     "metadata": {},
     "output_type": "execute_result"
    }
   ],
   "source": [
    "person_title = nameArray[1]\n",
    "person_title"
   ]
  },
  {
   "cell_type": "code",
   "execution_count": 128,
   "metadata": {},
   "outputs": [
    {
     "data": {
      "text/plain": [
       "'214 Banff Avenue/Box 3100  | Banff | T1L 1C7'"
      ]
     },
     "execution_count": 128,
     "metadata": {},
     "output_type": "execute_result"
    }
   ],
   "source": [
    "address_array = c_1ocation[0].text\n",
    "address_array"
   ]
  },
  {
   "cell_type": "code",
   "execution_count": 124,
   "metadata": {},
   "outputs": [
    {
     "data": {
      "text/plain": [
       "['214 Banff Avenue/Box 3100 ', 'Banff', 'T1L 1C7']"
      ]
     },
     "execution_count": 124,
     "metadata": {},
     "output_type": "execute_result"
    }
   ],
   "source": [
    "#address_array = re.split(r' \\| ', c_1ocation[0].text)\n",
    "#address_array"
   ]
  },
  {
   "cell_type": "code",
   "execution_count": 130,
   "metadata": {},
   "outputs": [
    {
     "name": "stdout",
     "output_type": "stream",
     "text": [
      "[nltk_data] Downloading package averaged_perceptron_tagger to\n",
      "[nltk_data]     /Users/bertaerodriguez-milla/nltk_data...\n",
      "[nltk_data]   Unzipping taggers/averaged_perceptron_tagger.zip.\n"
     ]
    },
    {
     "data": {
      "text/plain": [
       "True"
      ]
     },
     "execution_count": 130,
     "metadata": {},
     "output_type": "execute_result"
    }
   ],
   "source": [
    "nltk.download('averaged_perceptron_tagger')"
   ]
  },
  {
   "cell_type": "code",
   "execution_count": 131,
   "metadata": {},
   "outputs": [],
   "source": [
    "def preprocess(sent):\n",
    "    sent = nltk.word_tokenize(sent)\n",
    "    sent = nltk.pos_tag(sent)\n",
    "    return sent"
   ]
  },
  {
   "cell_type": "code",
   "execution_count": 132,
   "metadata": {},
   "outputs": [
    {
     "data": {
      "text/plain": [
       "[('214', 'CD'),\n",
       " ('Banff', 'NNP'),\n",
       " ('Avenue/Box', 'NNP'),\n",
       " ('3100', 'CD'),\n",
       " ('|', 'NNP'),\n",
       " ('Banff', 'NNP'),\n",
       " ('|', 'NNP'),\n",
       " ('T1L', 'NNP'),\n",
       " ('1C7', 'CD')]"
      ]
     },
     "execution_count": 132,
     "metadata": {},
     "output_type": "execute_result"
    }
   ],
   "source": [
    "sent = preprocess(address_array)\n",
    "sent"
   ]
  },
  {
   "cell_type": "code",
   "execution_count": 135,
   "metadata": {},
   "outputs": [
    {
     "data": {
      "text/plain": [
       "5"
      ]
     },
     "execution_count": 135,
     "metadata": {},
     "output_type": "execute_result"
    }
   ],
   "source": [
    "article = nlp(address_array)\n",
    "len(article.ents)"
   ]
  },
  {
   "cell_type": "code",
   "execution_count": 136,
   "metadata": {},
   "outputs": [
    {
     "data": {
      "text/plain": [
       "Counter({'CARDINAL': 2, 'FAC': 1, 'PERCENT': 1, 'PERSON': 1})"
      ]
     },
     "execution_count": 136,
     "metadata": {},
     "output_type": "execute_result"
    }
   ],
   "source": [
    "labels = [x.label_ for x in article.ents]\n",
    "Counter(labels)"
   ]
  },
  {
   "cell_type": "code",
   "execution_count": 141,
   "metadata": {},
   "outputs": [
    {
     "name": "stdout",
     "output_type": "stream",
     "text": [
      "214 Banff Avenue/Box 3100  | Banff | T1L 1C7\n"
     ]
    }
   ],
   "source": [
    "sentences = [x for x in article.sents]\n",
    "print(sentences[0])"
   ]
  },
  {
   "cell_type": "code",
   "execution_count": 142,
   "metadata": {},
   "outputs": [
    {
     "data": {
      "text/html": [
       "<div class=\"entities\" style=\"line-height: 2.5\">\n",
       "<mark class=\"entity\" style=\"background: #e4e7d2; padding: 0.45em 0.6em; margin: 0 0.25em; line-height: 1; border-radius: 0.35em; box-decoration-break: clone; -webkit-box-decoration-break: clone\">\n",
       "    214\n",
       "    <span style=\"font-size: 0.8em; font-weight: bold; line-height: 1; border-radius: 0.35em; text-transform: uppercase; vertical-align: middle; margin-left: 0.5rem\">CARDINAL</span>\n",
       "</mark>\n",
       " \n",
       "<mark class=\"entity\" style=\"background: #ddd; padding: 0.45em 0.6em; margin: 0 0.25em; line-height: 1; border-radius: 0.35em; box-decoration-break: clone; -webkit-box-decoration-break: clone\">\n",
       "    Banff Avenue/Box\n",
       "    <span style=\"font-size: 0.8em; font-weight: bold; line-height: 1; border-radius: 0.35em; text-transform: uppercase; vertical-align: middle; margin-left: 0.5rem\">FAC</span>\n",
       "</mark>\n",
       " \n",
       "<mark class=\"entity\" style=\"background: #e4e7d2; padding: 0.45em 0.6em; margin: 0 0.25em; line-height: 1; border-radius: 0.35em; box-decoration-break: clone; -webkit-box-decoration-break: clone\">\n",
       "    3100  \n",
       "    <span style=\"font-size: 0.8em; font-weight: bold; line-height: 1; border-radius: 0.35em; text-transform: uppercase; vertical-align: middle; margin-left: 0.5rem\">PERCENT</span>\n",
       "</mark>\n",
       "| \n",
       "<mark class=\"entity\" style=\"background: #aa9cfc; padding: 0.45em 0.6em; margin: 0 0.25em; line-height: 1; border-radius: 0.35em; box-decoration-break: clone; -webkit-box-decoration-break: clone\">\n",
       "    Banff\n",
       "    <span style=\"font-size: 0.8em; font-weight: bold; line-height: 1; border-radius: 0.35em; text-transform: uppercase; vertical-align: middle; margin-left: 0.5rem\">PERSON</span>\n",
       "</mark>\n",
       " | T1L \n",
       "<mark class=\"entity\" style=\"background: #e4e7d2; padding: 0.45em 0.6em; margin: 0 0.25em; line-height: 1; border-radius: 0.35em; box-decoration-break: clone; -webkit-box-decoration-break: clone\">\n",
       "    1C7\n",
       "    <span style=\"font-size: 0.8em; font-weight: bold; line-height: 1; border-radius: 0.35em; text-transform: uppercase; vertical-align: middle; margin-left: 0.5rem\">CARDINAL</span>\n",
       "</mark>\n",
       "</div>"
      ],
      "text/plain": [
       "<IPython.core.display.HTML object>"
      ]
     },
     "metadata": {},
     "output_type": "display_data"
    }
   ],
   "source": [
    "displacy.render(nlp(str(sentences[0])), jupyter=True, style='ent')"
   ]
  },
  {
   "cell_type": "code",
   "execution_count": 179,
   "metadata": {},
   "outputs": [
    {
     "data": {
      "text/plain": [
       "32"
      ]
     },
     "execution_count": 179,
     "metadata": {},
     "output_type": "execute_result"
    }
   ],
   "source": [
    "ord(' ')"
   ]
  },
  {
   "cell_type": "code",
   "execution_count": 180,
   "metadata": {},
   "outputs": [
    {
     "name": "stdout",
     "output_type": "stream",
     "text": [
      "214 Banff Avenue\n",
      "Box 3100\n",
      "Banff\n",
      "T1L 1C7\n"
     ]
    }
   ],
   "source": [
    "for i in range(0,len(address_array)):\n",
    "    address_array[i]=address_array[i].strip()\n",
    "    print(address_array[i])"
   ]
  },
  {
   "cell_type": "code",
   "execution_count": 181,
   "metadata": {},
   "outputs": [
    {
     "data": {
      "text/plain": [
       "['214 Banff Avenue', 'Box 3100', 'Banff', 'T1L 1C7']"
      ]
     },
     "execution_count": 181,
     "metadata": {},
     "output_type": "execute_result"
    }
   ],
   "source": [
    "address_array"
   ]
  },
  {
   "cell_type": "code",
   "execution_count": null,
   "metadata": {},
   "outputs": [],
   "source": []
  }
 ],
 "metadata": {
  "kernelspec": {
   "display_name": "Python 3",
   "language": "python",
   "name": "python3"
  },
  "language_info": {
   "codemirror_mode": {
    "name": "ipython",
    "version": 3
   },
   "file_extension": ".py",
   "mimetype": "text/x-python",
   "name": "python",
   "nbconvert_exporter": "python",
   "pygments_lexer": "ipython3",
   "version": "3.5.6"
  }
 },
 "nbformat": 4,
 "nbformat_minor": 2
}
